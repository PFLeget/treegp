{
 "cells": [
  {
   "cell_type": "markdown",
   "metadata": {},
   "source": [
    "# Lesson 3 : Mean function & Gaussian processes \n",
    "\n",
    "Below some packages to import that will be used for this lesson\n",
    "\n",
    "Cell bellow is here for avoiding scrolling when plot is create within ipython notebook"
   ]
  },
  {
   "cell_type": "code",
   "execution_count": 1,
   "metadata": {},
   "outputs": [
    {
     "data": {
      "application/javascript": [
       "IPython.OutputArea.prototype._should_scroll = function(lines){\n",
       "    return false;\n",
       "}\n"
      ],
      "text/plain": [
       "<IPython.core.display.Javascript object>"
      ]
     },
     "metadata": {},
     "output_type": "display_data"
    }
   ],
   "source": [
    "%%javascript\n",
    "IPython.OutputArea.prototype._should_scroll = function(lines){\n",
    "    return false;\n",
    "}"
   ]
  },
  {
   "cell_type": "code",
   "execution_count": 2,
   "metadata": {},
   "outputs": [],
   "source": [
    "# Classical package for manipulating\n",
    "# array, for plotting and interactiv plots.\n",
    "import pylab as plt\n",
    "from matplotlib import gridspec\n",
    "import numpy as np\n",
    "import scipy\n",
    "import ipywidgets as widgets\n",
    "from ipywidgets import interact\n",
    "import itertools\n",
    "import copy\n",
    "import sys\n",
    "import pickle\n",
    "import treecorr\n",
    "import treegp\n",
    "from treegp import AnisotropicRBF, eval_kernel\n",
    "\n",
    "\n",
    "def load_pickle(pickle_file):\n",
    "    dico = pickle.load(open(pickle_file, 'rb'), encoding='latin1')\n",
    "    return dico"
   ]
  },
  {
   "cell_type": "markdown",
   "metadata": {},
   "source": [
    "## Exercice 6) Adding a mean function on real SNIa data, impact on GP interpolation (1D):"
   ]
  },
  {
   "cell_type": "code",
   "execution_count": 3,
   "metadata": {},
   "outputs": [
    {
     "data": {
      "application/vnd.jupyter.widget-view+json": {
       "model_id": "6b7a4af7a6fd4d5ba252b95994d4310a",
       "version_major": 2,
       "version_minor": 0
      },
      "text/plain": [
       "interactive(children=(FloatSlider(value=0.5, continuous_update=False, description='$\\\\sigma$:', max=0.8, min=0…"
      ]
     },
     "metadata": {},
     "output_type": "display_data"
    }
   ],
   "source": [
    "##########################################################################################\n",
    "# EXERCICE 6: Adding a mean function on real SNIa data, impact on GP interpolation (1D): #\n",
    "##########################################################################################\n",
    "\n",
    "dic = load_pickle('data/snia_gaussian_process_de_school.pkl')\n",
    "\n",
    "def gp_regression(x, new_x, y, kernel, y_err=None):\n",
    "    \n",
    "    if y_err is None:\n",
    "        y_err =np.ones_like(y) *1e-10\n",
    "    \n",
    "    gp = treegp.GPInterpolation(kernel=kernel, optimizer='none', \n",
    "                                normalize=False, white_noise=0., p0=[3000., 0.,0.],\n",
    "                                n_neighbors=4, average_fits=None, nbins=20, \n",
    "                                min_sep=None, max_sep=None)\n",
    "    gp.initialize(x, y, y_err=y_err)\n",
    "    y_predict, y_cov = gp.predict(new_x, return_cov=True)\n",
    "    y_std = np.sqrt(np.diag(y_cov))\n",
    "    log_L = gp.return_log_likelihood()\n",
    "    return y_predict, y_std, log_L\n",
    "\n",
    "\n",
    "def spline_1D(old_binning, mean_function, new_binning):\n",
    "    cubic_spline = scipy.interpolate.InterpolatedUnivariateSpline(old_binning,\n",
    "                                                                  mean_function)\n",
    "    mean_interpolate = cubic_spline(new_binning)\n",
    "    return mean_interpolate\n",
    "\n",
    "\n",
    "@interact(sigma = widgets.FloatSlider(value=0.5, min=0.1, max=0.8, step=0.01, description='$\\sigma$:',\n",
    "          disabled=False,\n",
    "          continuous_update=False,\n",
    "          orientation='horizontal',\n",
    "          readout=True,\n",
    "          readout_format='.2f'), \n",
    "          l = widgets.FloatSlider(value=3., min=1., max=15, step=0.1, description='$l$:',\n",
    "          disabled=False,\n",
    "          continuous_update=False,\n",
    "          orientation='horizontal',\n",
    "          readout=True,\n",
    "          readout_format='.2f'),\n",
    "          add_mean=widgets.Checkbox(value=False,\n",
    "                                   description='Add mean function',\n",
    "                                   disabled=False),\n",
    "          sn_name = widgets.Dropdown(options=['SNF20080514-002', 'SNF20050821-007', 'SNF20070802-000'],\n",
    "                                     value='SNF20080514-002',\n",
    "                                     description='SNIa name:',\n",
    "                                     disabled=False,))\n",
    "def plot_samples(sigma, l, add_mean, sn_name):\n",
    "    \n",
    "    i = 151\n",
    "    \n",
    "    new_x = np.linspace(-12, 48, 80).reshape((80, 1))\n",
    "    Kernel = \"%f * %s(%f)\"%((sigma**2, \"RBF\", l))\n",
    "    \n",
    "    y = copy.deepcopy(dic[sn_name]['y'])\n",
    "    y0 = copy.deepcopy(dic[sn_name]['y0'])\n",
    " \n",
    "    if add_mean:\n",
    "        y0_on_y = spline_1D(dic[sn_name]['y0_time'], y0, \n",
    "                            dic[sn_name]['y_time'])\n",
    "    else:\n",
    "        y0_on_y = 0\n",
    "    \n",
    "    epoch = dic[sn_name]['y_time'].reshape((len(dic[sn_name]['y_time']),1))\n",
    "\n",
    "    y_pred, y_std, log_L = gp_regression(epoch, new_x, y-y0_on_y, \n",
    "                                         Kernel, y_err=dic[sn_name]['y_err'])\n",
    "    if add_mean:\n",
    "        y0_on_ypredict = spline_1D(dic[sn_name]['y0_time'], y0, \n",
    "                                   np.linspace(-12, 48, 80))\n",
    "    else:\n",
    "        y0_on_ypredict = 0\n",
    "        \n",
    "    y_pred += y0_on_ypredict\n",
    "\n",
    "    plt.figure(figsize=(14,8))\n",
    "    \n",
    "    # Data\n",
    "    plt.scatter(dic[sn_name]['y_time'], y, \n",
    "                c='b', label = 'data')\n",
    "    plt.errorbar(dic[sn_name]['y_time'], y, \n",
    "                 linestyle='', yerr=dic[sn_name]['y_err'], ecolor='b', \n",
    "                 alpha=0.7,marker='.',zorder=0)\n",
    "    \n",
    "    # GP prediction\n",
    "    plt.plot(new_x, y_pred, 'r', lw =3, label = 'GP prediction')\n",
    "    plt.fill_between(new_x.T[0], y_pred-y_std, y_pred+y_std, color='r', alpha=0.3)\n",
    "    \n",
    "    if not add_mean:\n",
    "        plt.plot(new_x, np.zeros_like(new_x),'k--', label='used mean function')\n",
    "    else:\n",
    "        plt.plot(dic[sn_name]['y0_time'], dic[sn_name]['y0'],\n",
    "                 'k--', label='used mean function')\n",
    "    plt.xlim(-12,48)\n",
    "    plt.ylim(y.min()-1,\n",
    "             y.max()+1)\n",
    "    plt.xticks(fontsize=14)\n",
    "    plt.yticks(fontsize=14)\n",
    "    plt.xlabel('epoch relative to SALT2 $t_0$ (days)', fontsize=20)\n",
    "    plt.ylabel('Mag AB + cst.', fontsize=20)\n",
    "    plt.title(\"$\\log({\\cal{L}}) = %.2f$ \\n(kernel used: RBF)\"%(log_L), fontsize=20)\n",
    "    plt.gca().invert_yaxis()\n",
    "    plt.legend(fontsize=18, loc=3)"
   ]
  },
  {
   "cell_type": "code",
   "execution_count": null,
   "metadata": {},
   "outputs": [],
   "source": []
  }
 ],
 "metadata": {
  "kernelspec": {
   "display_name": "Python 3",
   "language": "python",
   "name": "python3"
  },
  "language_info": {
   "codemirror_mode": {
    "name": "ipython",
    "version": 3
   },
   "file_extension": ".py",
   "mimetype": "text/x-python",
   "name": "python",
   "nbconvert_exporter": "python",
   "pygments_lexer": "ipython3",
   "version": "3.7.6"
  }
 },
 "nbformat": 4,
 "nbformat_minor": 2
}
