{
 "cells": [
  {
   "cell_type": "markdown",
   "metadata": {},
   "source": [
    "# Lesson 1 : Generate Gaussian Processes & Get prediction in 1D / 2D\n",
    "\n",
    "Below some packages to import that will be used for this lesson\n",
    "\n",
    "Cell just bellow is here for avoiding scrolling when plot is create within ipython notebook"
   ]
  },
  {
   "cell_type": "code",
   "execution_count": 1,
   "metadata": {},
   "outputs": [
    {
     "data": {
      "application/javascript": [
       "IPython.OutputArea.prototype._should_scroll = function(lines){\n",
       "    return false;\n",
       "}\n"
      ],
      "text/plain": [
       "<IPython.core.display.Javascript object>"
      ]
     },
     "metadata": {},
     "output_type": "display_data"
    }
   ],
   "source": [
    "%%javascript\n",
    "IPython.OutputArea.prototype._should_scroll = function(lines){\n",
    "    return false;\n",
    "}"
   ]
  },
  {
   "cell_type": "code",
   "execution_count": 2,
   "metadata": {},
   "outputs": [],
   "source": [
    "# Classical package for manipulating\n",
    "# array, for plotting and interactiv plots.\n",
    "import pylab as plt\n",
    "from matplotlib import gridspec\n",
    "import numpy as np\n",
    "import ipywidgets as widgets\n",
    "from ipywidgets import interact\n",
    "import itertools\n",
    "\n",
    "from treegp import AnisotropicRBF, eval_kernel\n",
    "import treegp"
   ]
  },
  {
   "cell_type": "markdown",
   "metadata": {},
   "source": [
    "## Exercice 1): Play with gaussian random fields realization (1D)"
   ]
  },
  {
   "cell_type": "code",
   "execution_count": 3,
   "metadata": {
    "scrolled": true
   },
   "outputs": [
    {
     "data": {
      "application/vnd.jupyter.widget-view+json": {
       "model_id": "0b46811a22ea4378a3cfea229ca359e2",
       "version_major": 2,
       "version_minor": 0
      },
      "text/plain": [
       "interactive(children=(IntSlider(value=5, continuous_update=False, description='N real:', max=20, min=1), Float…"
      ]
     },
     "metadata": {},
     "output_type": "display_data"
    }
   ],
   "source": [
    "#################################################################\n",
    "# EXERCICE 1: Play with gaussian random fields realization (1D) #\n",
    "#################################################################\n",
    "\n",
    "# function to generate a 1D gaussian random field for a \n",
    "# given scikit-learn kernel. \n",
    "def make_1d_grf(kernel, noise=None, seed=42, N_points=40):\n",
    "    # fixing the seed\n",
    "    np.random.seed(seed)\n",
    "    # generate random 1D coordinate\n",
    "    x = np.random.uniform(-10,10, N_points).reshape((N_points,1))\n",
    "    # creating the correlation matrix / kernel \n",
    "    K = kernel.__call__(x)\n",
    "    # generating gaussian random field\n",
    "    y = np.random.multivariate_normal(np.zeros(N_points), K)\n",
    "    if noise is not None:\n",
    "        # adding noise\n",
    "        y += np.random.normal(scale=noise, size=N_points)\n",
    "        y_err = np.ones_like(y) * noise\n",
    "        return x, y, y_err\n",
    "    else:\n",
    "        return x, y\n",
    "\n",
    "# function to interactivly plot gaussian random fields realization. \n",
    "@interact(n_real = widgets.IntSlider(value=5, min=1, max=20, step=1,\n",
    "          description='N real:', disabled=False,\n",
    "          continuous_update=False, orientation='horizontal',\n",
    "          readout=True,\n",
    "          readout_format='d'),\n",
    "          sigma = widgets.FloatSlider(value=1., min=0.01, max=5.0, step=0.01, description='$\\sigma$:',\n",
    "          disabled=False,\n",
    "          continuous_update=False,\n",
    "          orientation='horizontal',\n",
    "          readout=True,\n",
    "          readout_format='.2f'), \n",
    "          l = widgets.FloatSlider(value=1, min=0.01, max=10.0, step=0.01, description='$l$:',\n",
    "          disabled=False,\n",
    "          continuous_update=False,\n",
    "          orientation='horizontal',\n",
    "          readout=True,\n",
    "          readout_format='.2f'),\n",
    "          kernel = widgets.Dropdown(options=['RBF', 'Matern'],\n",
    "                                  value='RBF',\n",
    "                                  description='Kernel:',\n",
    "                                  disabled=False,))\n",
    "def plot_generate_grf(n_real, sigma, l, kernel):\n",
    "    gs = gridspec.GridSpec(1, 2, width_ratios=[1.5, 1])\n",
    "    plt.figure(figsize=(20,8))\n",
    "    plt.subplot(gs[0])\n",
    "    for i in range(n_real):\n",
    "        Kernel = \"%f * %s(%f)\"%((sigma**2, kernel, l))\n",
    "        Kernel = eval_kernel(Kernel)\n",
    "        x, y, y_err = make_1d_grf(Kernel, noise = sigma*0.01, \n",
    "                                  seed=62+i, N_points=80)\n",
    "        plt.scatter(x, y, label = 'data')\n",
    "        plt.errorbar(x, y, linestyle='', yerr=y_err, \n",
    "                     alpha=0.7,marker='.',zorder=0)\n",
    "    plt.plot([-10,10], [0, 0],'k--')\n",
    "    plt.xlim(-10,10)\n",
    "    plt.ylim(-8.,8.)\n",
    "    plt.xlabel('X', fontsize=20)\n",
    "    plt.ylabel('Y', fontsize=20)\n",
    "    plt.title('Number of realizations: %i'%(n_real), fontsize=16)\n",
    "    plt.subplot(gs[1])\n",
    "    distance = np.linspace(0, 8, 30)\n",
    "    coord = np.array([distance, np.zeros_like(distance)]).T\n",
    "    pcf = Kernel.__call__(coord, Y=np.zeros_like(coord))[:,0]\n",
    "    plt.plot(distance, pcf, 'k', lw=3)\n",
    "    plt.ylim(0, 25)\n",
    "    plt.xlim(0, 8)\n",
    "    plt.ylabel('$\\\\xi(|x_i-x_j|)$', fontsize=20)\n",
    "    plt.xlabel('$|x_i-x_j|$', fontsize=20)\n",
    "    plt.title('Used correlation function (%s)'%(kernel), fontsize=16)\n",
    "    "
   ]
  },
  {
   "cell_type": "markdown",
   "metadata": {},
   "source": [
    "## Exercice 2): Play with gaussian random fields realization (2D) "
   ]
  },
  {
   "cell_type": "code",
   "execution_count": 4,
   "metadata": {},
   "outputs": [
    {
     "data": {
      "application/vnd.jupyter.widget-view+json": {
       "model_id": "4ce001be1e5c4336b77a1e4fe99bc800",
       "version_major": 2,
       "version_minor": 0
      },
      "text/plain": [
       "interactive(children=(FloatSlider(value=2.0, continuous_update=False, description='$\\\\sigma$:', max=5.0, min=0…"
      ]
     },
     "metadata": {},
     "output_type": "display_data"
    }
   ],
   "source": [
    "################################################################\n",
    "# EXERCICE 2: Play with gaussian random fields realization (2D)#\n",
    "################################################################\n",
    "\n",
    "# function to generate a 1D gaussian random field for a \n",
    "# given scikit-learn kernel.\n",
    "\n",
    "def get_correlation_length_matrix(size, g1, g2):\n",
    "    if abs(g1)>1:\n",
    "        g1 = 0\n",
    "    if abs(g2)>1:\n",
    "        g2 = 0\n",
    "    g = np.sqrt(g1**2 + g2**2)\n",
    "    q = (1-g) / (1+g)\n",
    "    phi = 0.5 * np.arctan2(g2,g1)\n",
    "    rot = np.array([[np.cos(phi), np.sin(phi)],\n",
    "                    [-np.sin(phi), np.cos(phi)]])\n",
    "    ell = np.array([[size**2, 0],\n",
    "                    [0, (size * q)**2]])\n",
    "    L = np.dot(rot.T, ell.dot(rot))\n",
    "    return L\n",
    "\n",
    "def make_2d_grf(kernel, noise=None, seed=42, N_points=40):\n",
    "    # fixing the seed\n",
    "    np.random.seed(seed)\n",
    "    # generate random 2D coordinate\n",
    "    x1 = np.random.uniform(-10,10, N_points)\n",
    "    x2 = np.random.uniform(-10,10, N_points)\n",
    "    x = np.array([x1, x2]).T\n",
    "    # creating the correlation matrix / kernel \n",
    "    K = kernel.__call__(x)\n",
    "    # generating gaussian random field\n",
    "    y = np.random.multivariate_normal(np.zeros(N_points), K)\n",
    "    if noise is not None:\n",
    "        # adding noise\n",
    "        y += np.random.normal(scale=noise, size=N_points)\n",
    "        y_err = np.ones_like(y) * noise\n",
    "        return x, y, y_err\n",
    "    else:\n",
    "        return x, y\n",
    "\n",
    "# function to interactivly plot gaussian random fields realization. \n",
    "@interact(sigma = widgets.FloatSlider(value=2., min=0.01, max=5.0, step=0.01, description='$\\sigma$:',\n",
    "          disabled=False,\n",
    "          continuous_update=False,\n",
    "          orientation='horizontal',\n",
    "          readout=True,\n",
    "          readout_format='.2f'), \n",
    "          size = widgets.FloatSlider(value=1, min=0.01, max=10.0, step=0.01, description='$l$:',\n",
    "          disabled=False,\n",
    "          continuous_update=False,\n",
    "          orientation='horizontal',\n",
    "          readout=True,\n",
    "          readout_format='.2f'),\n",
    "          g1 = widgets.FloatSlider(value=0, min=-0.99, max=0.99, step=0.01, description='$g_1$:',\n",
    "          disabled=False,\n",
    "          continuous_update=False,\n",
    "          orientation='horizontal',\n",
    "          readout=True,\n",
    "          readout_format='.2f'),\n",
    "          g2 = widgets.FloatSlider(value=0, min=-0.99, max=0.99, step=0.01, description='$g_2$:',\n",
    "          disabled=False,\n",
    "          continuous_update=False,\n",
    "          orientation='horizontal',\n",
    "          readout=True,\n",
    "          readout_format='.2f'),\n",
    "          kernel = widgets.Dropdown(options=['AnisotropicRBF'],\n",
    "                                  value='AnisotropicRBF',\n",
    "                                  description='Kernel:',\n",
    "                                  disabled=False,))\n",
    "def plot_generate_grf_2d(sigma, size, g1, g2, kernel):\n",
    "    \n",
    "    L = get_correlation_length_matrix(size, g1, g2)\n",
    "    inv_L = np.linalg.inv(L)\n",
    "    gs = gridspec.GridSpec(1, 2, width_ratios=[1.5, 1])\n",
    "    \n",
    "    plt.figure(figsize=(20,8))\n",
    "    plt.subplot(gs[0])\n",
    "    Kernel = \"%f\"%(sigma**2) + \" * AnisotropicRBF(invLam={0!r})\".format(inv_L)\n",
    "    Kernel = eval_kernel(Kernel)\n",
    "    x, y, y_err = make_2d_grf(Kernel, noise=sigma*0.01, seed=42, N_points=500)\n",
    "                              \n",
    "\n",
    "    plt.scatter(x[:,0], x[:,1], c=y, s=80, cmap=plt.cm.seismic, vmin=-5, vmax=5)\n",
    "    cb = plt.colorbar()\n",
    "    cb.set_label('Y', fontsize=20)\n",
    "    plt.xlabel('$\\\\theta_{X}$', fontsize=20)\n",
    "    plt.ylabel('$\\\\theta_{Y}$', fontsize=20)\n",
    "    plt.title('Generated 2D Gaussian random fields', fontsize=20)\n",
    "\n",
    "    plt.subplot(gs[1])\n",
    "    pixel_squareroot = 25\n",
    "    npixels = pixel_squareroot**2\n",
    "    x = np.linspace(-5, 5, pixel_squareroot)\n",
    "    x1, x2 = np.meshgrid(x, x)\n",
    "    coord = np.array([x1.reshape(npixels), x2.reshape(npixels)]).T\n",
    "    pcf = Kernel.__call__(coord, Y=np.zeros_like(coord))[:,0]\n",
    "    pcf = pcf.reshape((pixel_squareroot, pixel_squareroot))\n",
    "    \n",
    "    plt.imshow(pcf, extent=[x[0], x[-1], x[0], x[-1]],\n",
    "               origin='lower', cmap=plt.cm.Blues, vmin=0, vmax=5)\n",
    "    cb = plt.colorbar()\n",
    "    cb.set_label(r'$\\xi (\\Delta \\theta_{X}, \\Delta \\theta_{Y})$', fontsize=20)\n",
    "    plt.ylabel('$\\Delta \\\\theta_{Y} = \\\\theta_{Y,i} - \\\\theta_{Y,j}$', fontsize=20)\n",
    "    plt.xlabel('$\\Delta \\\\theta_{X} = \\\\theta_{X,i} - \\\\theta_{X,j}$', fontsize=20)\n",
    "    plt.title('Used correlation function (%s)'%(kernel), fontsize=16)"
   ]
  },
  {
   "cell_type": "markdown",
   "metadata": {},
   "source": [
    "## Exercice 3): GP prediction and what are the best hyperparameters and kernel (1D)"
   ]
  },
  {
   "cell_type": "code",
   "execution_count": 6,
   "metadata": {
    "scrolled": true
   },
   "outputs": [
    {
     "data": {
      "application/vnd.jupyter.widget-view+json": {
       "model_id": "531968279a474bfaa4c5772321a6da42",
       "version_major": 2,
       "version_minor": 0
      },
      "text/plain": [
       "interactive(children=(FloatSlider(value=2.0, continuous_update=False, description='$\\\\sigma$:', max=5.0, min=0…"
      ]
     },
     "metadata": {},
     "output_type": "display_data"
    }
   ],
   "source": [
    "###################################################################################\n",
    "# EXERCICE 3: GP prediction and what are the best hyperparameters and kernel (1D) #\n",
    "###################################################################################\n",
    "\n",
    "\n",
    "def gp_regression(x, new_x, y, kernel, y_err=None):\n",
    "    \n",
    "    if y_err is None:\n",
    "        y_err =np.ones_like(y) *1e-10\n",
    "\n",
    "    gp = treegp.GPInterpolation(kernel=kernel, optimizer='none', \n",
    "                                normalize=False, white_noise=0., p0=[3000., 0.,0.],\n",
    "                                n_neighbors=4, average_fits=None, nbins=20, \n",
    "                                min_sep=None, max_sep=None)\n",
    "    gp.initialize(x, y, y_err=y_err)\n",
    "    y_predict, y_cov = gp.predict(new_x, return_cov=True)\n",
    "    y_std = np.sqrt(np.diag(y_cov))\n",
    "    return gp, y_predict, y_std\n",
    "\n",
    "\n",
    "data = np.loadtxt('data/data_1d_grf.txt')\n",
    "x = data[:,0].reshape((len(data[:,0]),1))\n",
    "y = data[:,1]\n",
    "y_err = data[:,2]\n",
    "\n",
    "@interact(sigma = widgets.FloatSlider(value=2., min=0.01, max=5.0, step=0.01, description='$\\sigma$:',\n",
    "          disabled=False,\n",
    "          continuous_update=False,\n",
    "          orientation='horizontal',\n",
    "          readout=True,\n",
    "          readout_format='.2f'), \n",
    "          l = widgets.FloatSlider(value=1., min=0.01, max=10.0, step=0.01, description='$l$:',\n",
    "          disabled=False,\n",
    "          continuous_update=False,\n",
    "          orientation='horizontal',\n",
    "          readout=True,\n",
    "          readout_format='.2f'),\n",
    "          kernel = widgets.Dropdown(options=['RBF', 'Matern'],\n",
    "                                  value='RBF',\n",
    "                                  description='Kernel:',\n",
    "                                  disabled=False,))\n",
    "def plot_predict_1D(sigma, l, kernel):\n",
    "    \n",
    "    new_x = np.linspace(-24,24, 400).reshape((400,1))\n",
    "    Kernel = \"%f * %s(%f)\"%((sigma**2, kernel, l))\n",
    "    gp, y_pred, y_std = gp_regression(x, new_x, y, Kernel, y_err=y_err)\n",
    "\n",
    "    gs = gridspec.GridSpec(1, 2, width_ratios=[1.5, 1])\n",
    "    plt.figure(figsize=(20,8))\n",
    "    plt.subplot(gs[0])\n",
    "    \n",
    "    # Data\n",
    "    plt.scatter(x, y, c='b', label = 'data')\n",
    "    plt.errorbar(x, y, linestyle='', yerr=y_err, ecolor='b', \n",
    "                 alpha=0.7,marker='.',zorder=0)\n",
    "    \n",
    "    # GP prediction\n",
    "    plt.plot(new_x, y_pred, 'r', lw =3, label = 'GP prediction')\n",
    "    plt.fill_between(new_x.T[0], y_pred-y_std, y_pred+y_std, color='r', alpha=0.3)\n",
    "    \n",
    "    plt.plot(new_x, np.zeros_like(new_x),'k--')\n",
    "    plt.xlim(-24,24)\n",
    "    plt.ylim(-3.,3.)\n",
    "    plt.xticks(fontsize=14)\n",
    "    plt.yticks(fontsize=14)\n",
    "    plt.xlabel('X', fontsize=20)\n",
    "    plt.ylabel('Y', fontsize=20)\n",
    "    plt.legend(fontsize=18)\n",
    "    plt.subplot(gs[1])\n",
    "    distance = np.linspace(0, 8, 60)\n",
    "    coord = np.array([distance, np.zeros_like(distance)]).T\n",
    "    pcf = gp.kernel.__call__(coord, Y=np.zeros_like(coord))[:,0]\n",
    "    plt.plot(distance, pcf, 'k', lw=3)\n",
    "    plt.ylim(0, 10)\n",
    "    plt.xlim(0, 8)\n",
    "    plt.ylabel('$\\\\xi(|x_i-x_j|)$', fontsize=20)\n",
    "    plt.xlabel('$|x_i-x_j|$', fontsize=20)\n",
    "    plt.title('Used correlation function (%s)'%(kernel), fontsize=16)"
   ]
  },
  {
   "cell_type": "markdown",
   "metadata": {},
   "source": [
    "## Exercice 4) GP prediction and what are the best hyperparameters (2D)"
   ]
  },
  {
   "cell_type": "code",
   "execution_count": 7,
   "metadata": {},
   "outputs": [
    {
     "data": {
      "application/vnd.jupyter.widget-view+json": {
       "model_id": "2b88a70438ce4dd1b7f2b590cc24f907",
       "version_major": 2,
       "version_minor": 0
      },
      "text/plain": [
       "interactive(children=(FloatSlider(value=2.0, continuous_update=False, description='$\\\\sigma$:', max=5.0, min=0…"
      ]
     },
     "metadata": {},
     "output_type": "display_data"
    }
   ],
   "source": [
    "########################################################################\n",
    "# EXERCICE 4: GP prediction and what are the best hyperparameters (2D) #\n",
    "########################################################################\n",
    "\n",
    "data = np.loadtxt('data/data_2d_grf.txt')\n",
    "theta_x = data[:,0]\n",
    "theta_y = data[:,1]\n",
    "XXX = np.array([theta_x, theta_y]).T\n",
    "YYY = data[:,2]\n",
    "YYY_err = data[:,3]\n",
    "\n",
    "# function to interactivly plot gaussian random fields realization. \n",
    "@interact(sigma = widgets.FloatSlider(value=2., min=0.01, max=5.0, step=0.01, description='$\\sigma$:',\n",
    "          disabled=False,\n",
    "          continuous_update=False,\n",
    "          orientation='horizontal',\n",
    "          readout=True,\n",
    "          readout_format='.2f'), \n",
    "          size = widgets.FloatSlider(value=1, min=0.01, max=10.0, step=0.01, description='$l$:',\n",
    "          disabled=False,\n",
    "          continuous_update=False,\n",
    "          orientation='horizontal',\n",
    "          readout=True,\n",
    "          readout_format='.2f'),\n",
    "          g1 = widgets.FloatSlider(value=0, min=-0.99, max=0.99, step=0.01, description='$g_1$:',\n",
    "          disabled=False,\n",
    "          continuous_update=False,\n",
    "          orientation='horizontal',\n",
    "          readout=True,\n",
    "          readout_format='.2f'),\n",
    "          g2 = widgets.FloatSlider(value=0, min=-0.99, max=0.99, step=0.01, description='$g_2$:',\n",
    "          disabled=False,\n",
    "          continuous_update=False,\n",
    "          orientation='horizontal',\n",
    "          readout=True,\n",
    "          readout_format='.2f'),\n",
    "          kernel = widgets.Dropdown(options=['AnisotropicRBF'],\n",
    "                                  value='AnisotropicRBF',\n",
    "                                  description='Kernel:',\n",
    "                                  disabled=False,))\n",
    "def plot_predict_2D(sigma, size, g1, g2, kernel):\n",
    "    \n",
    "    gs = gridspec.GridSpec(1, 3, width_ratios=[1.3, 1.3, 1])\n",
    "    \n",
    "    plt.figure(figsize=(22,6))\n",
    "    plt.subplots_adjust(wspace=0.2)\n",
    "    plt.subplot(gs[0])\n",
    "\n",
    "    plt.scatter(XXX[:,0], XXX[:,1], c=YYY, s=80, cmap=plt.cm.seismic, vmin=-5, vmax=5)\n",
    "    cb = plt.colorbar()\n",
    "    cb.set_label('Y', fontsize=20)\n",
    "    plt.xlabel('$\\\\theta_{X}$', fontsize=20)\n",
    "    plt.ylabel('$\\\\theta_{Y}$', fontsize=20)\n",
    "    plt.title('Data', fontsize=20)\n",
    "    \n",
    "    L = get_correlation_length_matrix(size, g1, g2)\n",
    "    inv_L = np.linalg.inv(L)\n",
    "    Kernel = \"%f\"%(sigma**2) + \" * AnisotropicRBF(invLam={0!r})\".format(inv_L)\n",
    "    plt.subplot(gs[1])\n",
    "\n",
    "    NPOINT = 31\n",
    "    new_x = np.linspace(-10,10, NPOINT)\n",
    "    new_x, new_y = np.meshgrid(new_x, new_x)\n",
    "    coord = np.array([new_x.reshape(NPOINT**2), new_y.reshape(NPOINT**2)]).T\n",
    "    gp, y_pred, y_std = gp_regression(XXX, coord, YYY, Kernel, y_err=YYY_err)\n",
    "    \n",
    "\n",
    "    y_pred = y_pred.reshape((NPOINT, NPOINT)) \n",
    "    plt.imshow(y_pred, extent=[-10, 10, -10, 10],\n",
    "               origin='lower', cmap=plt.cm.seismic, vmin=-5, vmax=5)\n",
    "\n",
    "    cb = plt.colorbar()\n",
    "    cb.set_label('Y', fontsize=20)\n",
    "    plt.xlabel('$\\\\theta_{X}$', fontsize=20)\n",
    "    plt.ylabel('$\\\\theta_{Y}$', fontsize=20)\n",
    "    plt.title('Gaussian Process prediction', fontsize=20)\n",
    "\n",
    "    plt.subplot(gs[2])\n",
    "    pixel_squareroot = 25\n",
    "    npixels = pixel_squareroot**2\n",
    "    x = np.linspace(-5, 5, pixel_squareroot)\n",
    "    x1, x2 = np.meshgrid(x, x)\n",
    "    coord = np.array([x1.reshape(npixels), x2.reshape(npixels)]).T\n",
    "    pcf = gp.kernel.__call__(coord, Y=np.zeros_like(coord))[:,0]\n",
    "    pcf = pcf.reshape((pixel_squareroot, pixel_squareroot))\n",
    "    \n",
    "    plt.imshow(pcf, extent=[x[0], x[-1], x[0], x[-1]],\n",
    "               origin='lower', cmap=plt.cm.Blues, vmin=0, vmax=5)\n",
    "    cb = plt.colorbar()\n",
    "    cb.set_label(r'$\\xi (\\Delta \\theta_{X}, \\Delta \\theta_{Y})$', fontsize=20)\n",
    "    plt.ylabel('$\\Delta \\\\theta_{Y} = \\\\theta_{Y,i} - \\\\theta_{Y,j}$', fontsize=20)\n",
    "    plt.xlabel('$\\Delta \\\\theta_{X} = \\\\theta_{X,i} - \\\\theta_{X,j}$', fontsize=20)\n",
    "    plt.title('Used correlation function \\n (%s)'%(kernel), fontsize=16)"
   ]
  },
  {
   "cell_type": "code",
   "execution_count": null,
   "metadata": {},
   "outputs": [],
   "source": []
  }
 ],
 "metadata": {
  "kernelspec": {
   "display_name": "Python 3",
   "language": "python",
   "name": "python3"
  },
  "language_info": {
   "codemirror_mode": {
    "name": "ipython",
    "version": 3
   },
   "file_extension": ".py",
   "mimetype": "text/x-python",
   "name": "python",
   "nbconvert_exporter": "python",
   "pygments_lexer": "ipython3",
   "version": "3.7.6"
  }
 },
 "nbformat": 4,
 "nbformat_minor": 2
}
