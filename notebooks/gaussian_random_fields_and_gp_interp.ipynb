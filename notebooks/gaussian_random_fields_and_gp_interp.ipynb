{
  "cells": [
    {
      "metadata": {},
      "cell_type": "markdown",
      "source": "# Lesson 1 : Generate Gaussian Processes & Get prediction in 1D / 2D\n\nBelow some packages to import that will be used for this lesson\n\nCell just bellow is here for avoiding scrolling when plot is create within ipython notebook"
    },
    {
      "metadata": {
        "trusted": true
      },
      "cell_type": "code",
      "source": "%%javascript\nIPython.OutputArea.prototype._should_scroll = function(lines){\n    return false;\n}",
      "execution_count": 12,
      "outputs": [
        {
          "output_type": "display_data",
          "data": {
            "application/javascript": "IPython.OutputArea.prototype._should_scroll = function(lines){\n    return false;\n}\n",
            "text/plain": "<IPython.core.display.Javascript object>"
          },
          "metadata": {}
        }
      ]
    },
    {
      "metadata": {
        "trusted": true
      },
      "cell_type": "code",
      "source": "# Classical package for manipulating\n# array, for plotting and interactiv plots.\nimport pylab as plt\nfrom matplotlib import gridspec\nimport numpy as np\nimport ipywidgets as widgets\nfrom ipywidgets import interact\nimport itertools\n\n# Gaussian processes from scikit-learn is used for this lesson.\n# Other packages exist (e.g. george) but for the courses I guess\n# it would be the best because a lot of people in desc are already\n# using scikit-learn. The only suggestion would be about how to fit\n# hyperparameters in a more efficient way, but it will be done with\n# an other packages also broadly used within DESC, which is TreeCorr.\nfrom sklearn import gaussian_process as skl_gp\nfrom sklearn.gaussian_process.kernels import Kernel\n\n# Special implemetation of anisotropic squarred exponential kernel\n# in scikit-learn. Not implemented in scikit-learn originally.\nimport sys\nsys.path.append('/home/nbuser/project')\nfrom kernel import AnisotropicRBF\n\n\n# Some import trickery to get all subclasses of sklearn.gaussian_process.kernels.Kernel\n# into the local namespace without doing \"from sklearn.gaussian_process.kernels import *\"\n# and without importing them all manually. Originally developped by Josh Meyers within Piff.\n# Example:\n# kernel = eval_kernel(\"RBF(1)\") instead of\n# kernel = sklearn.gaussian_process.kernels.RBF(1)\ndef eval_kernel(kernel):\n    def recurse_subclasses(cls):\n        out = []\n        for c in cls.__subclasses__():\n            out.append(c)\n            out.extend(recurse_subclasses(c))\n        return out\n    clses = recurse_subclasses(Kernel)\n    for cls in clses:\n        module = __import__(cls.__module__, globals(), locals(), cls)\n        execstr = \"{0} = module.{0}\".format(cls.__name__)\n        exec(execstr, globals(), locals())\n\n    from numpy import array\n\n    try:\n        k = eval(kernel)\n    except (KeyboardInterrupt, SystemExit):\n        raise\n    except Exception as e:  # pragma: no cover\n        raise RuntimeError(\"Failed to evaluate kernel string {0!r}.  \"\n                               \"Original exception: {1}\".format(kernel, e))\n\n    if type(k.theta) is property:\n        raise TypeError(\"String provided was not initialized properly\")\n    return k",
      "execution_count": 13,
      "outputs": []
    },
    {
      "metadata": {},
      "cell_type": "markdown",
      "source": "## Exercice 1): Play with gaussian random fields realization (1D)"
    },
    {
      "metadata": {
        "trusted": true,
        "scrolled": true
      },
      "cell_type": "code",
      "source": "#################################################################\n# EXERCICE 1: Play with gaussian random fields realization (1D) #\n#################################################################\n\n# function to generate a 1D gaussian random field for a \n# given scikit-learn kernel. \ndef make_1d_grf(kernel, noise=None, seed=42, N_points=40):\n    # fixing the seed\n    np.random.seed(seed)\n    # generate random 1D coordinate\n    x = np.random.uniform(-10,10, N_points).reshape((N_points,1))\n    # creating the correlation matrix / kernel \n    K = kernel.__call__(x)\n    # generating gaussian random field\n    y = np.random.multivariate_normal(np.zeros(N_points), K)\n    if noise is not None:\n        # adding noise\n        y += np.random.normal(scale=noise, size=N_points)\n        y_err = np.ones_like(y) * noise\n        return x, y, y_err\n    else:\n        return x, y\n\n# function to interactivly plot gaussian random fields realization. \n@interact(n_real = widgets.IntSlider(value=5, min=1, max=20, step=1,\n          description='N real:', disabled=False,\n          continuous_update=False, orientation='horizontal',\n          readout=True,\n          readout_format='d'),\n          sigma = widgets.FloatSlider(value=1., min=0.01, max=5.0, step=0.01, description='$\\sigma$:',\n          disabled=False,\n          continuous_update=False,\n          orientation='horizontal',\n          readout=True,\n          readout_format='.2f'), \n          l = widgets.FloatSlider(value=1, min=0.01, max=10.0, step=0.01, description='$l$:',\n          disabled=False,\n          continuous_update=False,\n          orientation='horizontal',\n          readout=True,\n          readout_format='.2f'),\n          kernel = widgets.Dropdown(options=['RBF', 'Matern'],\n                                  value='RBF',\n                                  description='Kernel:',\n                                  disabled=False,))\ndef plot_generate_grf(n_real, sigma, l, kernel):\n    gs = gridspec.GridSpec(1, 2, width_ratios=[1.5, 1])\n    plt.figure(figsize=(20,8))\n    plt.subplot(gs[0])\n    for i in range(n_real):\n        Kernel = \"%f * %s(%f)\"%((sigma**2, kernel, l))\n        Kernel = eval_kernel(Kernel)\n        x, y, y_err = make_1d_grf(Kernel, noise = sigma*0.01, \n                                  seed=62+i, N_points=80)\n        plt.scatter(x, y, label = 'data')\n        plt.errorbar(x, y, linestyle='', yerr=y_err, \n                     alpha=0.7,marker='.',zorder=0)\n    plt.plot([-10,10], [0, 0],'k--')\n    plt.xlim(-10,10)\n    plt.ylim(-8.,8.)\n    plt.xlabel('X', fontsize=20)\n    plt.ylabel('Y', fontsize=20)\n    plt.title('Number of realizations: %i'%(n_real), fontsize=16)\n    plt.subplot(gs[1])\n    distance = np.linspace(0, 8, 30)\n    coord = np.array([distance, np.zeros_like(distance)]).T\n    pcf = Kernel.__call__(coord, Y=np.zeros_like(coord))[:,0]\n    plt.plot(distance, pcf, 'k', lw=3)\n    plt.ylim(0, 25)\n    plt.xlim(0, 8)\n    plt.ylabel('$\\\\xi(|x_i-x_j|)$', fontsize=20)\n    plt.xlabel('$|x_i-x_j|$', fontsize=20)\n    plt.title('Used correlation function (%s)'%(kernel), fontsize=16)\n    ",
      "execution_count": 14,
      "outputs": [
        {
          "output_type": "display_data",
          "data": {
            "application/vnd.jupyter.widget-view+json": {
              "model_id": "7aeac63a01ae4aa097712f7bcd3c279c",
              "version_minor": 0,
              "version_major": 2
            },
            "text/plain": "interactive(children=(IntSlider(value=5, continuous_update=False, description='N real:', max=20, min=1), Float…"
          },
          "metadata": {}
        }
      ]
    },
    {
      "metadata": {},
      "cell_type": "markdown",
      "source": "## Exercice 2): Play with gaussian random fields realization (2D) "
    },
    {
      "metadata": {
        "trusted": true
      },
      "cell_type": "code",
      "source": "################################################################\n# EXERCICE 2: Play with gaussian random fields realization (2D)#\n################################################################\n\n# function to generate a 1D gaussian random field for a \n# given scikit-learn kernel.\n\ndef get_correlation_length_matrix(size, g1, g2):\n    if abs(g1)>1:\n        g1 = 0\n    if abs(g2)>1:\n        g2 = 0\n    g = np.sqrt(g1**2 + g2**2)\n    q = (1-g) / (1+g)\n    phi = 0.5 * np.arctan2(g2,g1)\n    rot = np.array([[np.cos(phi), np.sin(phi)],\n                    [-np.sin(phi), np.cos(phi)]])\n    ell = np.array([[size**2, 0],\n                    [0, (size * q)**2]])\n    L = np.dot(rot.T, ell.dot(rot))\n    return L\n\ndef make_2d_grf(kernel, noise=None, seed=42, N_points=40):\n    # fixing the seed\n    np.random.seed(seed)\n    # generate random 2D coordinate\n    x1 = np.random.uniform(-10,10, N_points)\n    x2 = np.random.uniform(-10,10, N_points)\n    x = np.array([x1, x2]).T\n    # creating the correlation matrix / kernel \n    K = kernel.__call__(x)\n    # generating gaussian random field\n    y = np.random.multivariate_normal(np.zeros(N_points), K)\n    if noise is not None:\n        # adding noise\n        y += np.random.normal(scale=noise, size=N_points)\n        y_err = np.ones_like(y) * noise\n        return x, y, y_err\n    else:\n        return x, y\n\n# function to interactivly plot gaussian random fields realization. \n@interact(sigma = widgets.FloatSlider(value=2., min=0.01, max=5.0, step=0.01, description='$\\sigma$:',\n          disabled=False,\n          continuous_update=False,\n          orientation='horizontal',\n          readout=True,\n          readout_format='.2f'), \n          size = widgets.FloatSlider(value=1, min=0.01, max=10.0, step=0.01, description='$l$:',\n          disabled=False,\n          continuous_update=False,\n          orientation='horizontal',\n          readout=True,\n          readout_format='.2f'),\n          g1 = widgets.FloatSlider(value=0, min=-0.99, max=0.99, step=0.01, description='$g_1$:',\n          disabled=False,\n          continuous_update=False,\n          orientation='horizontal',\n          readout=True,\n          readout_format='.2f'),\n          g2 = widgets.FloatSlider(value=0, min=-0.99, max=0.99, step=0.01, description='$g_2$:',\n          disabled=False,\n          continuous_update=False,\n          orientation='horizontal',\n          readout=True,\n          readout_format='.2f'),\n          kernel = widgets.Dropdown(options=['AnisotropicRBF'],\n                                  value='AnisotropicRBF',\n                                  description='Kernel:',\n                                  disabled=False,))\ndef plot_generate_grf_2d(sigma, size, g1, g2, kernel):\n    \n    L = get_correlation_length_matrix(size, g1, g2)\n    inv_L = np.linalg.inv(L)\n    gs = gridspec.GridSpec(1, 2, width_ratios=[1.5, 1])\n    \n    plt.figure(figsize=(20,8))\n    plt.subplot(gs[0])\n    Kernel = \"%f\"%(sigma**2) + \" * AnisotropicRBF(invLam={0!r})\".format(inv_L)\n    Kernel = eval_kernel(Kernel)\n    x, y, y_err = make_2d_grf(Kernel, noise=sigma*0.01, seed=42, N_points=500)\n                              \n\n    plt.scatter(x[:,0], x[:,1], c=y, s=80, cmap=plt.cm.seismic, vmin=-5, vmax=5)\n    cb = plt.colorbar()\n    cb.set_label('Y', fontsize=20)\n    plt.xlabel('$\\\\theta_{X}$', fontsize=20)\n    plt.ylabel('$\\\\theta_{Y}$', fontsize=20)\n    plt.title('Generated 2D Gaussian random fields', fontsize=20)\n\n    plt.subplot(gs[1])\n    pixel_squareroot = 25\n    npixels = pixel_squareroot**2\n    x = np.linspace(-5, 5, pixel_squareroot)\n    x1, x2 = np.meshgrid(x, x)\n    coord = np.array([x1.reshape(npixels), x2.reshape(npixels)]).T\n    pcf = Kernel.__call__(coord, Y=np.zeros_like(coord))[:,0]\n    pcf = pcf.reshape((pixel_squareroot, pixel_squareroot))\n    \n    plt.imshow(pcf, extent=[x[0], x[-1], x[0], x[-1]],\n               origin='lower', cmap=plt.cm.Blues, vmin=0, vmax=5)\n    cb = plt.colorbar()\n    cb.set_label(r'$\\xi (\\Delta \\theta_{X}, \\Delta \\theta_{Y})$', fontsize=20)\n    plt.ylabel('$\\Delta \\\\theta_{Y} = \\\\theta_{Y,i} - \\\\theta_{Y,j}$', fontsize=20)\n    plt.xlabel('$\\Delta \\\\theta_{X} = \\\\theta_{X,i} - \\\\theta_{X,j}$', fontsize=20)\n    plt.title('Used correlation function (%s)'%(kernel), fontsize=16)",
      "execution_count": 15,
      "outputs": [
        {
          "output_type": "display_data",
          "data": {
            "application/vnd.jupyter.widget-view+json": {
              "model_id": "d0adad19f4654825b0371941cdabe8f6",
              "version_minor": 0,
              "version_major": 2
            },
            "text/plain": "interactive(children=(FloatSlider(value=2.0, continuous_update=False, description='$\\\\sigma$:', max=5.0, min=0…"
          },
          "metadata": {}
        }
      ]
    },
    {
      "metadata": {
        "trusted": true
      },
      "cell_type": "markdown",
      "source": "## Exercice 3): GP prediction and what are the best hyperparameters and kernel (1D)"
    },
    {
      "metadata": {
        "trusted": true
      },
      "cell_type": "code",
      "source": "###################################################################################\n# EXERCICE 3: GP prediction and what are the best hyperparameters and kernel (1D) #\n###################################################################################\n\n\ndef gp_regression(x, new_x, y, kernel, y_err=None):\n    \n    if y_err is None:\n        y_err =np.ones_like(y) *1e-10\n    \n    gp = skl_gp.GaussianProcessRegressor(kernel=kernel, alpha=y_err,\n                                         optimizer=None,\n                                         normalize_y=None)\n    gp.fit(x,y)\n    y_predict, y_std = gp.predict(new_x, return_std=True)\n    return y_predict, y_std\n\n\ndata = np.loadtxt('data/data_1d_grf.txt')\nx = data[:,0].reshape((len(data[:,0]),1))\ny = data[:,1]\ny_err = data[:,2]\n\n@interact(sigma = widgets.FloatSlider(value=2., min=0.01, max=5.0, step=0.01, description='$\\sigma$:',\n          disabled=False,\n          continuous_update=False,\n          orientation='horizontal',\n          readout=True,\n          readout_format='.2f'), \n          l = widgets.FloatSlider(value=1., min=0.01, max=10.0, step=0.01, description='$l$:',\n          disabled=False,\n          continuous_update=False,\n          orientation='horizontal',\n          readout=True,\n          readout_format='.2f'),\n          kernel = widgets.Dropdown(options=['RBF', 'Matern'],\n                                  value='RBF',\n                                  description='Kernel:',\n                                  disabled=False,))\ndef plot_predict_1D(sigma, l, kernel):\n    \n    new_x = np.linspace(-24,24, 400).reshape((400,1))\n    Kernel = \"%f * %s(%f)\"%((sigma**2, kernel, l))\n    Kernel = eval_kernel(Kernel)\n    y_pred, y_std = gp_regression(x, new_x, y, Kernel, y_err=y_err)\n\n    gs = gridspec.GridSpec(1, 2, width_ratios=[1.5, 1])\n    plt.figure(figsize=(20,8))\n    plt.subplot(gs[0])\n    \n    # Data\n    plt.scatter(x, y, c='b', label = 'data')\n    plt.errorbar(x, y, linestyle='', yerr=y_err, ecolor='b', \n                 alpha=0.7,marker='.',zorder=0)\n    \n    # GP prediction\n    plt.plot(new_x, y_pred, 'r', lw =3, label = 'GP prediction')\n    plt.fill_between(new_x.T[0], y_pred-y_std, y_pred+y_std, color='r', alpha=0.3)\n    \n    plt.plot(new_x, np.zeros_like(new_x),'k--')\n    plt.xlim(-24,24)\n    plt.ylim(-3.,3.)\n    plt.xticks(fontsize=14)\n    plt.yticks(fontsize=14)\n    plt.xlabel('X', fontsize=20)\n    plt.ylabel('Y', fontsize=20)\n    plt.legend(fontsize=18)\n    plt.subplot(gs[1])\n    distance = np.linspace(0, 8, 60)\n    coord = np.array([distance, np.zeros_like(distance)]).T\n    pcf = Kernel.__call__(coord, Y=np.zeros_like(coord))[:,0]\n    plt.plot(distance, pcf, 'k', lw=3)\n    plt.ylim(0, 10)\n    plt.xlim(0, 8)\n    plt.ylabel('$\\\\xi(|x_i-x_j|)$', fontsize=20)\n    plt.xlabel('$|x_i-x_j|$', fontsize=20)\n    plt.title('Used correlation function (%s)'%(kernel), fontsize=16)",
      "execution_count": 16,
      "outputs": [
        {
          "output_type": "display_data",
          "data": {
            "application/vnd.jupyter.widget-view+json": {
              "model_id": "ffe22345173843799125b848bcf4a3ee",
              "version_minor": 0,
              "version_major": 2
            },
            "text/plain": "interactive(children=(FloatSlider(value=2.0, continuous_update=False, description='$\\\\sigma$:', max=5.0, min=0…"
          },
          "metadata": {}
        }
      ]
    },
    {
      "metadata": {
        "trusted": true
      },
      "cell_type": "markdown",
      "source": "## Exercice 4) GP prediction and what are the best hyperparameters (2D)"
    },
    {
      "metadata": {
        "trusted": true
      },
      "cell_type": "code",
      "source": "########################################################################\n# EXERCICE 4: GP prediction and what are the best hyperparameters (2D) #\n########################################################################\n\ndata = np.loadtxt('data/data_2d_grf.txt')\ntheta_x = data[:,0]\ntheta_y = data[:,1]\nXXX = np.array([theta_x, theta_y]).T\nYYY = data[:,2]\nYYY_err = data[:,3]\n\n# function to interactivly plot gaussian random fields realization. \n@interact(sigma = widgets.FloatSlider(value=2., min=0.01, max=5.0, step=0.01, description='$\\sigma$:',\n          disabled=False,\n          continuous_update=False,\n          orientation='horizontal',\n          readout=True,\n          readout_format='.2f'), \n          size = widgets.FloatSlider(value=1, min=0.01, max=10.0, step=0.01, description='$l$:',\n          disabled=False,\n          continuous_update=False,\n          orientation='horizontal',\n          readout=True,\n          readout_format='.2f'),\n          g1 = widgets.FloatSlider(value=0, min=-0.99, max=0.99, step=0.01, description='$g_1$:',\n          disabled=False,\n          continuous_update=False,\n          orientation='horizontal',\n          readout=True,\n          readout_format='.2f'),\n          g2 = widgets.FloatSlider(value=0, min=-0.99, max=0.99, step=0.01, description='$g_2$:',\n          disabled=False,\n          continuous_update=False,\n          orientation='horizontal',\n          readout=True,\n          readout_format='.2f'),\n          kernel = widgets.Dropdown(options=['AnisotropicRBF'],\n                                  value='AnisotropicRBF',\n                                  description='Kernel:',\n                                  disabled=False,))\ndef plot_predict_2D(sigma, size, g1, g2, kernel):\n    \n    gs = gridspec.GridSpec(1, 3, width_ratios=[1.3, 1.3, 1])\n    \n    plt.figure(figsize=(22,6))\n    plt.subplots_adjust(wspace=0.2)\n    plt.subplot(gs[0])\n\n    plt.scatter(XXX[:,0], XXX[:,1], c=YYY, s=80, cmap=plt.cm.seismic, vmin=-5, vmax=5)\n    cb = plt.colorbar()\n    cb.set_label('Y', fontsize=20)\n    plt.xlabel('$\\\\theta_{X}$', fontsize=20)\n    plt.ylabel('$\\\\theta_{Y}$', fontsize=20)\n    plt.title('Data', fontsize=20)\n    \n    L = get_correlation_length_matrix(size, g1, g2)\n    inv_L = np.linalg.inv(L)\n    Kernel = \"%f\"%(sigma**2) + \" * AnisotropicRBF(invLam={0!r})\".format(inv_L)\n    Kernel = eval_kernel(Kernel)\n    plt.subplot(gs[1])\n\n    NPOINT = 31\n    new_x = np.linspace(-10,10, NPOINT)\n    new_x, new_y = np.meshgrid(new_x, new_x)\n    coord = np.array([new_x.reshape(NPOINT**2), new_y.reshape(NPOINT**2)]).T\n    #x, new_x, y, kernel, y_err=None\n    y_pred, y_std = gp_regression(XXX, coord, YYY, Kernel, y_err=YYY_err)\n    \n\n    y_pred = y_pred.reshape((NPOINT, NPOINT)) \n    plt.imshow(y_pred, extent=[-10, 10, -10, 10],\n               origin='lower', cmap=plt.cm.seismic, vmin=-5, vmax=5)\n\n    cb = plt.colorbar()\n    cb.set_label('Y', fontsize=20)\n    plt.xlabel('$\\\\theta_{X}$', fontsize=20)\n    plt.ylabel('$\\\\theta_{Y}$', fontsize=20)\n    plt.title('Gaussian Process prediction', fontsize=20)\n\n    plt.subplot(gs[2])\n    pixel_squareroot = 25\n    npixels = pixel_squareroot**2\n    x = np.linspace(-5, 5, pixel_squareroot)\n    x1, x2 = np.meshgrid(x, x)\n    coord = np.array([x1.reshape(npixels), x2.reshape(npixels)]).T\n    pcf = Kernel.__call__(coord, Y=np.zeros_like(coord))[:,0]\n    pcf = pcf.reshape((pixel_squareroot, pixel_squareroot))\n    \n    plt.imshow(pcf, extent=[x[0], x[-1], x[0], x[-1]],\n               origin='lower', cmap=plt.cm.Blues, vmin=0, vmax=5)\n    cb = plt.colorbar()\n    cb.set_label(r'$\\xi (\\Delta \\theta_{X}, \\Delta \\theta_{Y})$', fontsize=20)\n    plt.ylabel('$\\Delta \\\\theta_{Y} = \\\\theta_{Y,i} - \\\\theta_{Y,j}$', fontsize=20)\n    plt.xlabel('$\\Delta \\\\theta_{X} = \\\\theta_{X,i} - \\\\theta_{X,j}$', fontsize=20)\n    plt.title('Used correlation function \\n (%s)'%(kernel), fontsize=16)",
      "execution_count": 11,
      "outputs": [
        {
          "output_type": "display_data",
          "data": {
            "application/vnd.jupyter.widget-view+json": {
              "model_id": "c8950eceb23e4686a18aeb1d160f90a2",
              "version_minor": 0,
              "version_major": 2
            },
            "text/plain": "interactive(children=(FloatSlider(value=2.0, continuous_update=False, description='$\\\\sigma$:', max=5.0, min=0…"
          },
          "metadata": {}
        }
      ]
    },
    {
      "metadata": {
        "trusted": true
      },
      "cell_type": "code",
      "source": "",
      "execution_count": null,
      "outputs": []
    }
  ],
  "metadata": {
    "kernelspec": {
      "name": "python36",
      "display_name": "Python 3.6",
      "language": "python"
    },
    "language_info": {
      "mimetype": "text/x-python",
      "nbconvert_exporter": "python",
      "name": "python",
      "pygments_lexer": "ipython3",
      "version": "3.6.6",
      "file_extension": ".py",
      "codemirror_mode": {
        "version": 3,
        "name": "ipython"
      }
    }
  },
  "nbformat": 4,
  "nbformat_minor": 2
}