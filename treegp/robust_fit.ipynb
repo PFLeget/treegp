{
 "cells": [
  {
   "cell_type": "code",
   "execution_count": 40,
   "metadata": {},
   "outputs": [],
   "source": [
    "import pylab as plt\n",
    "import numpy as np\n",
    "from scipy import optimize, special\n",
    "import cPickle\n",
    "from iminuit import Minuit\n",
    "import treegp\n",
    "from treegp import eval_kernel\n",
    "import sklearn\n",
    "import warnings\n",
    "%matplotlib inline"
   ]
  },
  {
   "cell_type": "code",
   "execution_count": 16,
   "metadata": {},
   "outputs": [],
   "source": [
    "def get_correlation_length_matrix(size, e1, e2):\n",
    "    if abs(e1)>1:\n",
    "        e1 = 0\n",
    "    if abs(e2)>1:\n",
    "        e2 = 0\n",
    "    e = np.sqrt(e1**2 + e2**2)\n",
    "    q = (1-e) / (1+e)\n",
    "    phi = 0.5 * np.arctan2(e2,e1)\n",
    "    rot = np.array([[np.cos(phi), np.sin(phi)],\n",
    "                    [-np.sin(phi), np.cos(phi)]])\n",
    "    ell = np.array([[size**2, 0],\n",
    "                    [0, (size * q)**2]])\n",
    "    L = np.dot(rot.T, ell.dot(rot))\n",
    "    return L\n",
    "\n",
    "def gauss(x, y, sigma,\n",
    "          corr_length, g1, g2, add_noise=True):\n",
    "    L = get_correlation_length_matrix(corr_length, g1, g2)\n",
    "    l = np.linalg.inv(L)\n",
    "    dist_a = (l[0,0]*x*x) + (2*l[0,1]*x*y) + (l[1,1]*y*y)\n",
    "    z = np.exp(-0.5 * dist_a)\n",
    "    if add_noise:\n",
    "        np.random.seed(42)\n",
    "        noise = np.random.normal(scale=sigma*0.05, size=np.shape(z))\n",
    "        z += noise\n",
    "        return z*sigma**2, np.eye(len(z)) * (sigma*0.05)**2\n",
    "    else:\n",
    "        return z*sigma**2\n",
    "\n",
    "def VK(x, y, sigma,\n",
    "       corr_length, g1, g2, add_noise=True):\n",
    "    L = get_correlation_length_matrix(corr_length, g1, g2)\n",
    "    l = np.linalg.inv(L)\n",
    "    dist_a = (l[0,0]*x*x) + (2*l[0,1]*x*y) + (l[1,1]*y*y)\n",
    "    z = np.zeros_like(dist_a)\n",
    "    Filter = dist_a != 0.\n",
    "    z[Filter] = dist_a[Filter]**(5./12.) *  special.kv(5./6., 2*np.pi * np.sqrt(dist_a[Filter]))\n",
    "    lim0 = special.gamma(5./6.) /(2 * ((np.pi)**(5./6.)) )\n",
    "    if np.sum(Filter) != len(z):\n",
    "        z[~Filter] = lim0\n",
    "    z /= lim0\n",
    "    if add_noise:\n",
    "        np.random.seed(42)\n",
    "        noise = np.random.normal(scale=sigma*0.05, size=np.shape(z))\n",
    "        z += noise\n",
    "        return z*sigma**2, np.eye(len(z)) * (sigma*0.05)**2\n",
    "    else:\n",
    "        return z*sigma**2\n",
    "    \n",
    "def model_skl(kernel_class, x, y, sigma, corr_length, g1, g2, add_noise=True):\n",
    "    L = get_correlation_length_matrix(corr_length, g1, g2)\n",
    "    invLam = np.linalg.inv(L)\n",
    "    kernel_used = kernel(invLam=invLam)\n",
    "    coord = np.array([x, y]).T\n",
    "    pcf = kernel_used.__call__(coord,Y=np.zeros_like(coord))[:,0]\n",
    "    if add_noise:\n",
    "        np.random.seed(42)\n",
    "        noise = np.random.normal(scale=sigma*0.05, size=np.shape(pcf))\n",
    "        z += noise\n",
    "        return pcf*sigma**2, np.eye(len(pcf)) * (sigma*0.05)**2\n",
    "    else:\n",
    "        return pcf*sigma**2"
   ]
  },
  {
   "cell_type": "code",
   "execution_count": 17,
   "metadata": {},
   "outputs": [
    {
     "data": {
      "text/plain": [
       "<matplotlib.image.AxesImage at 0x116c82550>"
      ]
     },
     "execution_count": 17,
     "metadata": {},
     "output_type": "execute_result"
    },
    {
     "data": {
      "image/png": "[encoded data removed]",
      "text/plain": [
       "<Figure size 432x288 with 1 Axes>"
      ]
     },
     "metadata": {
      "needs_background": "light"
     },
     "output_type": "display_data"
    }
   ],
   "source": [
    "N = 30\n",
    "x = np.linspace(-5,5,N)\n",
    "x, y = np.meshgrid(x, x)\n",
    "x = x.reshape(N**2)\n",
    "y = y.reshape(N**2)\n",
    "\n",
    "z, v = VK(x, y, 1., 10., 0.2, 0.2)\n",
    "z = z.reshape((N,N))\n",
    "\n",
    "plt.imshow(z, origin='lower')"
   ]
  },
  {
   "cell_type": "code",
   "execution_count": 43,
   "metadata": {},
   "outputs": [
    {
     "data": {
      "text/html": [
       "<hr>"
      ]
     },
     "metadata": {},
     "output_type": "display_data"
    },
    {
     "data": {
      "text/html": [
       "<table>\n",
       "    <tr>\n",
       "        <td title=\"Minimum value of function\">FCN = 707.873781938</td>\n",
       "        <td title=\"Total number of call to FCN so far\">TOTAL NCALL = 98</td>\n",
       "        <td title=\"Number of call in last migrad\">NCALLS = 98</td>\n",
       "    </tr>\n",
       "    <tr>\n",
       "        <td title=\"Estimated distance to minimum\">EDM = 5.46808067793e-05</td>\n",
       "        <td title=\"Maximum EDM definition of convergence\">GOAL EDM = 1e-05</td>\n",
       "        <td title=\"Error def. Amount of increase in FCN to be defined as 1 standard deviation\">\n",
       "        UP = 1.0</td>\n",
       "    </tr>\n",
       "</table>\n",
       "<table>\n",
       "    <tr>\n",
       "        <td align=\"center\" title=\"Validity of the migrad call\">Valid</td>\n",
       "        <td align=\"center\" title=\"Validity of parameters\">Valid Param</td>\n",
       "        <td align=\"center\" title=\"Is Covariance matrix accurate?\">Accurate Covar</td>\n",
       "        <td align=\"center\" title=\"Positive definiteness of covariance matrix\">PosDef</td>\n",
       "        <td align=\"center\" title=\"Was covariance matrix made posdef by adding diagonal element\">Made PosDef</td>\n",
       "    </tr>\n",
       "    <tr>\n",
       "        <td align=\"center\" style=\"background-color:#FF7878\">False</td>\n",
       "        <td align=\"center\" style=\"background-color:#92CCA6\">True</td>\n",
       "        <td align=\"center\" style=\"background-color:#FF7878\">False</td>\n",
       "        <td align=\"center\" style=\"background-color:#FF7878\">False</td>\n",
       "        <td align=\"center\" style=\"background-color:#92CCA6\">False</td>\n",
       "    </tr>\n",
       "    <tr>\n",
       "        <td align=\"center\" title=\"Was last hesse call fail?\">Hesse Fail</td>\n",
       "        <td align=\"center\" title=\"Validity of covariance\">HasCov</td>\n",
       "        <td align=\"center\" title=\"Is EDM above goal EDM?\">Above EDM</td>\n",
       "        <td align=\"center\"></td>\n",
       "        <td align=\"center\" title=\"Did last migrad call reach max call limit?\">Reach calllim</td>\n",
       "    </tr>\n",
       "    <tr>\n",
       "        <td align=\"center\" style=\"background-color:#FF7878\">True</td>\n",
       "        <td align=\"center\" style=\"background-color:#92CCA6\">True</td>\n",
       "        <td align=\"center\" style=\"background-color:#92CCA6\">False</td>\n",
       "        <td align=\"center\"></td>\n",
       "        <td align=\"center\" style=\"background-color:#92CCA6\">False</td>\n",
       "    </tr>\n",
       "</table>"
      ]
     },
     "metadata": {},
     "output_type": "display_data"
    },
    {
     "data": {
      "text/html": [
       "<table>\n",
       "    <tr>\n",
       "        <td><a href=\"#\" onclick=\"$('#hOOcdGLAOy').toggle()\">+</a></td>\n",
       "        <td title=\"Variable name\">Name</td>\n",
       "        <td title=\"Value of parameter\">Value</td>\n",
       "        <td title=\"Hesse error\">Hesse Error</td>\n",
       "        <td title=\"Minos lower error\">Minos Error-</td>\n",
       "        <td title=\"Minos upper error\">Minos Error+</td>\n",
       "        <td title=\"Lower limit of the parameter\">Limit-</td>\n",
       "        <td title=\"Upper limit of the parameter\">Limit+</td>\n",
       "        <td title=\"Is the parameter fixed in the fit\">Fixed?</td>\n",
       "    </tr>\n",
       "    <tr>\n",
       "        <td>0</td>\n",
       "        <td>x0</td>\n",
       "        <td>24.7003</td>\n",
       "        <td>0</td>\n",
       "        <td></td>\n",
       "        <td></td>\n",
       "        <td></td>\n",
       "        <td></td>\n",
       "        <td>No</td>\n",
       "    </tr>\n",
       "    <tr>\n",
       "        <td>1</td>\n",
       "        <td>x1</td>\n",
       "        <td>-2.30908</td>\n",
       "        <td>0</td>\n",
       "        <td></td>\n",
       "        <td></td>\n",
       "        <td></td>\n",
       "        <td></td>\n",
       "        <td>No</td>\n",
       "    </tr>\n",
       "    <tr>\n",
       "        <td>2</td>\n",
       "        <td>x2</td>\n",
       "        <td>0.27936</td>\n",
       "        <td>0</td>\n",
       "        <td></td>\n",
       "        <td></td>\n",
       "        <td></td>\n",
       "        <td></td>\n",
       "        <td>No</td>\n",
       "    </tr>\n",
       "</table>\n",
       "<pre id=\"hOOcdGLAOy\" style=\"display:none;\">\n",
       "<textarea rows=\"12\" cols=\"50\" onclick=\"this.select()\" readonly>\n",
       "\\begin{tabular}{|c|r|r|r|r|r|r|r|c|}\n",
       "\\hline\n",
       " & Name & Value & Hesse Error & Minos Error- & Minos Error+ & Limit- & Limit+ & Fixed?\\\\\n",
       "\\hline\n",
       "0 & x0 & 24.7003 & 0 &  &  &  &  & No\\\\\n",
       "\\hline\n",
       "1 & x1 & -2.30908 & 0 &  &  &  &  & No\\\\\n",
       "\\hline\n",
       "2 & x2 & 0.27936 & 0 &  &  &  &  & No\\\\\n",
       "\\hline\n",
       "\\end{tabular}\n",
       "</textarea>\n",
       "</pre>"
      ]
     },
     "metadata": {},
     "output_type": "display_data"
    },
    {
     "data": {
      "text/html": [
       "<hr>"
      ]
     },
     "metadata": {},
     "output_type": "display_data"
    },
    {
     "name": "stdout",
     "output_type": "stream",
     "text": [
      "restart fit because failure\n",
      "[4.5, -0.3, -0.3]\n"
     ]
    },
    {
     "data": {
      "text/html": [
       "<hr>"
      ]
     },
     "metadata": {},
     "output_type": "display_data"
    },
    {
     "data": {
      "text/html": [
       "<table>\n",
       "    <tr>\n",
       "        <td title=\"Minimum value of function\">FCN = 852.869910096</td>\n",
       "        <td title=\"Total number of call to FCN so far\">TOTAL NCALL = 98</td>\n",
       "        <td title=\"Number of call in last migrad\">NCALLS = 98</td>\n",
       "    </tr>\n",
       "    <tr>\n",
       "        <td title=\"Estimated distance to minimum\">EDM = 1.63137307822e-05</td>\n",
       "        <td title=\"Maximum EDM definition of convergence\">GOAL EDM = 1e-05</td>\n",
       "        <td title=\"Error def. Amount of increase in FCN to be defined as 1 standard deviation\">\n",
       "        UP = 1.0</td>\n",
       "    </tr>\n",
       "</table>\n",
       "<table>\n",
       "    <tr>\n",
       "        <td align=\"center\" title=\"Validity of the migrad call\">Valid</td>\n",
       "        <td align=\"center\" title=\"Validity of parameters\">Valid Param</td>\n",
       "        <td align=\"center\" title=\"Is Covariance matrix accurate?\">Accurate Covar</td>\n",
       "        <td align=\"center\" title=\"Positive definiteness of covariance matrix\">PosDef</td>\n",
       "        <td align=\"center\" title=\"Was covariance matrix made posdef by adding diagonal element\">Made PosDef</td>\n",
       "    </tr>\n",
       "    <tr>\n",
       "        <td align=\"center\" style=\"background-color:#FF7878\">False</td>\n",
       "        <td align=\"center\" style=\"background-color:#92CCA6\">True</td>\n",
       "        <td align=\"center\" style=\"background-color:#FF7878\">False</td>\n",
       "        <td align=\"center\" style=\"background-color:#FF7878\">False</td>\n",
       "        <td align=\"center\" style=\"background-color:#92CCA6\">False</td>\n",
       "    </tr>\n",
       "    <tr>\n",
       "        <td align=\"center\" title=\"Was last hesse call fail?\">Hesse Fail</td>\n",
       "        <td align=\"center\" title=\"Validity of covariance\">HasCov</td>\n",
       "        <td align=\"center\" title=\"Is EDM above goal EDM?\">Above EDM</td>\n",
       "        <td align=\"center\"></td>\n",
       "        <td align=\"center\" title=\"Did last migrad call reach max call limit?\">Reach calllim</td>\n",
       "    </tr>\n",
       "    <tr>\n",
       "        <td align=\"center\" style=\"background-color:#FF7878\">True</td>\n",
       "        <td align=\"center\" style=\"background-color:#92CCA6\">True</td>\n",
       "        <td align=\"center\" style=\"background-color:#92CCA6\">False</td>\n",
       "        <td align=\"center\"></td>\n",
       "        <td align=\"center\" style=\"background-color:#92CCA6\">False</td>\n",
       "    </tr>\n",
       "</table>"
      ]
     },
     "metadata": {},
     "output_type": "display_data"
    },
    {
     "data": {
      "text/html": [
       "<table>\n",
       "    <tr>\n",
       "        <td><a href=\"#\" onclick=\"$('#VIomRsgmwQ').toggle()\">+</a></td>\n",
       "        <td title=\"Variable name\">Name</td>\n",
       "        <td title=\"Value of parameter\">Value</td>\n",
       "        <td title=\"Hesse error\">Hesse Error</td>\n",
       "        <td title=\"Minos lower error\">Minos Error-</td>\n",
       "        <td title=\"Minos upper error\">Minos Error+</td>\n",
       "        <td title=\"Lower limit of the parameter\">Limit-</td>\n",
       "        <td title=\"Upper limit of the parameter\">Limit+</td>\n",
       "        <td title=\"Is the parameter fixed in the fit\">Fixed?</td>\n",
       "    </tr>\n",
       "    <tr>\n",
       "        <td>0</td>\n",
       "        <td>x0</td>\n",
       "        <td>23.3724</td>\n",
       "        <td>0</td>\n",
       "        <td></td>\n",
       "        <td></td>\n",
       "        <td></td>\n",
       "        <td></td>\n",
       "        <td>No</td>\n",
       "    </tr>\n",
       "    <tr>\n",
       "        <td>1</td>\n",
       "        <td>x1</td>\n",
       "        <td>-0.296753</td>\n",
       "        <td>0</td>\n",
       "        <td></td>\n",
       "        <td></td>\n",
       "        <td></td>\n",
       "        <td></td>\n",
       "        <td>No</td>\n",
       "    </tr>\n",
       "    <tr>\n",
       "        <td>2</td>\n",
       "        <td>x2</td>\n",
       "        <td>7.8595</td>\n",
       "        <td>0</td>\n",
       "        <td></td>\n",
       "        <td></td>\n",
       "        <td></td>\n",
       "        <td></td>\n",
       "        <td>No</td>\n",
       "    </tr>\n",
       "</table>\n",
       "<pre id=\"VIomRsgmwQ\" style=\"display:none;\">\n",
       "<textarea rows=\"12\" cols=\"50\" onclick=\"this.select()\" readonly>\n",
       "\\begin{tabular}{|c|r|r|r|r|r|r|r|c|}\n",
       "\\hline\n",
       " & Name & Value & Hesse Error & Minos Error- & Minos Error+ & Limit- & Limit+ & Fixed?\\\\\n",
       "\\hline\n",
       "0 & x0 & 23.3724 & 0 &  &  &  &  & No\\\\\n",
       "\\hline\n",
       "1 & x1 & -0.296753 & 0 &  &  &  &  & No\\\\\n",
       "\\hline\n",
       "2 & x2 & 7.8595 & 0 &  &  &  &  & No\\\\\n",
       "\\hline\n",
       "\\end{tabular}\n",
       "</textarea>\n",
       "</pre>"
      ]
     },
     "metadata": {},
     "output_type": "display_data"
    },
    {
     "data": {
      "text/html": [
       "<hr>"
      ]
     },
     "metadata": {},
     "output_type": "display_data"
    },
    {
     "name": "stdout",
     "output_type": "stream",
     "text": [
      "restart fit because failure\n",
      "[7.25, -0.3, -0.3]\n"
     ]
    },
    {
     "data": {
      "text/html": [
       "<hr>"
      ]
     },
     "metadata": {},
     "output_type": "display_data"
    },
    {
     "data": {
      "text/html": [
       "<table>\n",
       "    <tr>\n",
       "        <td title=\"Minimum value of function\">FCN = 53.732307024</td>\n",
       "        <td title=\"Total number of call to FCN so far\">TOTAL NCALL = 117</td>\n",
       "        <td title=\"Number of call in last migrad\">NCALLS = 117</td>\n",
       "    </tr>\n",
       "    <tr>\n",
       "        <td title=\"Estimated distance to minimum\">EDM = 5.07300553206e-08</td>\n",
       "        <td title=\"Maximum EDM definition of convergence\">GOAL EDM = 1e-05</td>\n",
       "        <td title=\"Error def. Amount of increase in FCN to be defined as 1 standard deviation\">\n",
       "        UP = 1.0</td>\n",
       "    </tr>\n",
       "</table>\n",
       "<table>\n",
       "    <tr>\n",
       "        <td align=\"center\" title=\"Validity of the migrad call\">Valid</td>\n",
       "        <td align=\"center\" title=\"Validity of parameters\">Valid Param</td>\n",
       "        <td align=\"center\" title=\"Is Covariance matrix accurate?\">Accurate Covar</td>\n",
       "        <td align=\"center\" title=\"Positive definiteness of covariance matrix\">PosDef</td>\n",
       "        <td align=\"center\" title=\"Was covariance matrix made posdef by adding diagonal element\">Made PosDef</td>\n",
       "    </tr>\n",
       "    <tr>\n",
       "        <td align=\"center\" style=\"background-color:#92CCA6\">True</td>\n",
       "        <td align=\"center\" style=\"background-color:#92CCA6\">True</td>\n",
       "        <td align=\"center\" style=\"background-color:#92CCA6\">True</td>\n",
       "        <td align=\"center\" style=\"background-color:#92CCA6\">True</td>\n",
       "        <td align=\"center\" style=\"background-color:#92CCA6\">False</td>\n",
       "    </tr>\n",
       "    <tr>\n",
       "        <td align=\"center\" title=\"Was last hesse call fail?\">Hesse Fail</td>\n",
       "        <td align=\"center\" title=\"Validity of covariance\">HasCov</td>\n",
       "        <td align=\"center\" title=\"Is EDM above goal EDM?\">Above EDM</td>\n",
       "        <td align=\"center\"></td>\n",
       "        <td align=\"center\" title=\"Did last migrad call reach max call limit?\">Reach calllim</td>\n",
       "    </tr>\n",
       "    <tr>\n",
       "        <td align=\"center\" style=\"background-color:#92CCA6\">False</td>\n",
       "        <td align=\"center\" style=\"background-color:#92CCA6\">True</td>\n",
       "        <td align=\"center\" style=\"background-color:#92CCA6\">False</td>\n",
       "        <td align=\"center\"></td>\n",
       "        <td align=\"center\" style=\"background-color:#92CCA6\">False</td>\n",
       "    </tr>\n",
       "</table>"
      ]
     },
     "metadata": {},
     "output_type": "display_data"
    },
    {
     "data": {
      "text/html": [
       "<table>\n",
       "    <tr>\n",
       "        <td><a href=\"#\" onclick=\"$('#DgKISiVfqR').toggle()\">+</a></td>\n",
       "        <td title=\"Variable name\">Name</td>\n",
       "        <td title=\"Value of parameter\">Value</td>\n",
       "        <td title=\"Hesse error\">Hesse Error</td>\n",
       "        <td title=\"Minos lower error\">Minos Error-</td>\n",
       "        <td title=\"Minos upper error\">Minos Error+</td>\n",
       "        <td title=\"Lower limit of the parameter\">Limit-</td>\n",
       "        <td title=\"Upper limit of the parameter\">Limit+</td>\n",
       "        <td title=\"Is the parameter fixed in the fit\">Fixed?</td>\n",
       "    </tr>\n",
       "    <tr>\n",
       "        <td>0</td>\n",
       "        <td>x0</td>\n",
       "        <td>29.7637</td>\n",
       "        <td>1.35339</td>\n",
       "        <td></td>\n",
       "        <td></td>\n",
       "        <td></td>\n",
       "        <td></td>\n",
       "        <td>No</td>\n",
       "    </tr>\n",
       "    <tr>\n",
       "        <td>1</td>\n",
       "        <td>x1</td>\n",
       "        <td>-0.303486</td>\n",
       "        <td>0.012868</td>\n",
       "        <td></td>\n",
       "        <td></td>\n",
       "        <td></td>\n",
       "        <td></td>\n",
       "        <td>No</td>\n",
       "    </tr>\n",
       "    <tr>\n",
       "        <td>2</td>\n",
       "        <td>x2</td>\n",
       "        <td>0.304976</td>\n",
       "        <td>0.0113975</td>\n",
       "        <td></td>\n",
       "        <td></td>\n",
       "        <td></td>\n",
       "        <td></td>\n",
       "        <td>No</td>\n",
       "    </tr>\n",
       "</table>\n",
       "<pre id=\"DgKISiVfqR\" style=\"display:none;\">\n",
       "<textarea rows=\"12\" cols=\"50\" onclick=\"this.select()\" readonly>\n",
       "\\begin{tabular}{|c|r|r|r|r|r|r|r|c|}\n",
       "\\hline\n",
       " & Name & Value & Hesse Error & Minos Error- & Minos Error+ & Limit- & Limit+ & Fixed?\\\\\n",
       "\\hline\n",
       "0 & x0 & 29.7637 & 1.35339 &  &  &  &  & No\\\\\n",
       "\\hline\n",
       "1 & x1 & -0.303486 & 0.012868 &  &  &  &  & No\\\\\n",
       "\\hline\n",
       "2 & x2 & 0.304976 & 0.0113975 &  &  &  &  & No\\\\\n",
       "\\hline\n",
       "\\end{tabular}\n",
       "</textarea>\n",
       "</pre>"
      ]
     },
     "metadata": {},
     "output_type": "display_data"
    },
    {
     "data": {
      "text/html": [
       "<hr>"
      ]
     },
     "metadata": {},
     "output_type": "display_data"
    },
    {
     "name": "stdout",
     "output_type": "stream",
     "text": [
      "[0.49836506520873347, 29.76365326840231, -0.30348645537203145, 0.3049760265592007, -2.9974941267095314]\n"
     ]
    },
    {
     "data": {
      "image/png": "[encoded data removed]",
      "text/plain": [
       "<Figure size 1152x576 with 6 Axes>"
      ]
     },
     "metadata": {
      "needs_background": "light"
     },
     "output_type": "display_data"
    }
   ],
   "source": [
    "def get_correlation_length_matrix(size, e1, e2):\n",
    "    if abs(e1)>1:\n",
    "        e1 = 0\n",
    "    if abs(e2)>1:\n",
    "        e2 = 0\n",
    "    e = np.sqrt(e1**2 + e2**2)\n",
    "    q = (1-e) / (1+e)\n",
    "    phi = 0.5 * np.arctan2(e2,e1)\n",
    "    rot = np.array([[np.cos(phi), np.sin(phi)],\n",
    "                    [-np.sin(phi), np.cos(phi)]])\n",
    "    ell = np.array([[size**2, 0],\n",
    "                    [0, (size * q)**2]])\n",
    "    L = np.dot(rot.T, ell.dot(rot))\n",
    "    return L\n",
    "\n",
    "\n",
    "def get_kernel_class(A):\n",
    "\n",
    "    if A.__class__ in [treegp.kernels.AnisotropicVonKarman, \n",
    "                       treegp.kernels.AnisotropicRBF,\n",
    "                       sklearn.gaussian_process.kernels.Product]:\n",
    "\n",
    "        if A.__class__ in [sklearn.gaussian_process.kernels.Product]:\n",
    "            ok = False\n",
    "            for key in A.__dict__:\n",
    "                if A.__dict__[key].__class__ in [treegp.kernels.AnisotropicVonKarman,\n",
    "                                                 treegp.kernels.AnisotropicRBF]:\n",
    "                    kernel_class = A.__dict__[key].__class__\n",
    "                    ok = True\n",
    "            if not ok:\n",
    "                raise ValueError('Work only with treegp.kernels.AnisotropicVonKarman and treegp.kernels.AnisotropicRBF')\n",
    "        else:\n",
    "            kernel_class = A.__class__\n",
    "        return kernel_class\n",
    "    else:\n",
    "        raise ValueError('Work only with treegp.kernels.AnisotropicVonKarman and treegp.kernels.AnisotropicRBF')\n",
    "\n",
    "class robust_2dfit(object):\n",
    "    \n",
    "    def __init__(self, kernel, flat_data, x, y, W, mask=None):\n",
    "        \n",
    "        if mask is None:\n",
    "            self.mask = np.array([True]*len(x))\n",
    "        else:\n",
    "            self.mask = mask\n",
    "\n",
    "        self.kernel_class = get_kernel_class(kernel)\n",
    "        self.flat_data = flat_data\n",
    "        self.x = x\n",
    "        self.y = y\n",
    "        self.coord = np.array([x, y]).T\n",
    "        self.W = W\n",
    "        self.N = int(np.sqrt(len(self.x)))\n",
    "        \n",
    "    def _model_skl(self, sigma, corr_length, g1, g2):\n",
    "\n",
    "        L = get_correlation_length_matrix(corr_length, g1, g2)\n",
    "        invLam = np.linalg.inv(L)\n",
    "        kernel_used = self.kernel_class(invLam=invLam)\n",
    "        pcf = kernel_used.__call__(self.coord,Y=np.zeros_like(self.coord))[:,0]\n",
    "        self.kernel_fit = kernel_used\n",
    "        return pcf * sigma**2\n",
    "        \n",
    "    def chi2(self, param):\n",
    "        model = self._model_skl(1., param[0], \n",
    "                                param[1], param[2])\n",
    "        model = model[self.mask]\n",
    "        F = np.array([model, np.ones_like(model)]).T\n",
    "        FWF = np.dot(F.T, self.W).dot(F)\n",
    "        Y = self.flat_data[self.mask].reshape((len(model), 1))\n",
    "        self.alpha = np.linalg.inv(FWF).dot(np.dot(F.T, self.W).dot(Y))\n",
    "        self.residuals = self.flat_data[self.mask] - ((self.alpha[0] * model) + self.alpha[1])\n",
    "        self.chi2_value = self.residuals.dot(self.W).dot(self.residuals.reshape((len(model), 1)))\n",
    "        return self.chi2_value\n",
    "\n",
    "    def _minimize_minuit(self, p0 = [3000., 0.2, 0.2]):\n",
    "        with warnings.catch_warnings():\n",
    "            warnings.simplefilter(\"ignore\")\n",
    "            self.m = Minuit.from_array_func(self.chi2, p0)\n",
    "            self.m.migrad()\n",
    "        results = [self.m.values[key] for key in self.m.values.keys()]\n",
    "        self._minuit_result = results\n",
    "        self.result = [np.sqrt(self.alpha[0][0]), results[0],\n",
    "                       results[1], results[2],\n",
    "                       self.alpha[1][0]]\n",
    "        chi2 = self.chi2(self.result)\n",
    "        self.kernel_fit = np.sqrt(self.alpha[0][0])**2 * self.kernel_fit\n",
    "        \n",
    "    def minimize_minuit(self, p0 = [3000., 0.2, 0.2]):\n",
    "    \n",
    "        self._minimize_minuit(p0=p0)\n",
    "        \n",
    "        if not self.m.migrad_ok():\n",
    "            N_restart = 3\n",
    "            g1 = np.linspace(-0.3, 0.3, N_restart)\n",
    "            size = np.linspace(p0[0] - p0[0]/10., 2*p0[0], N_restart) \n",
    "            g1, g2, size = np.meshgrid(g1, g1, size)\n",
    "            N_restart = int(N_restart**3)\n",
    "            g1 = g1.reshape(N_restart)\n",
    "            g2 = g2.reshape(N_restart)\n",
    "            size = size.reshape(N_restart)\n",
    "            for i in range(N_restart):\n",
    "                print \"restart fit because failure\"\n",
    "                new_p0 = [size[i], g1[i], g2[i]]\n",
    "                print new_p0\n",
    "                self._minimize_minuit(p0=new_p0)\n",
    "                if self.m.migrad_ok():\n",
    "                    break\n",
    "        \n",
    "    def plot_result(self):\n",
    "        CMAP = plt.cm.seismic\n",
    "        MAX = np.max(self.flat_data)\n",
    "        MIN = np.min(self.flat_data)\n",
    "        print self.result\n",
    "        plt.figure(figsize=(16,8))\n",
    "        plt.subplot(1,3,1)\n",
    "        plt.imshow(self.flat_data.reshape((self.N,self.N)), \n",
    "                   origin=\"lower\", vmin=MIN, \n",
    "                   vmax=MAX, cmap=CMAP)\n",
    "        plt.colorbar()\n",
    "        \n",
    "        plt.subplot(1,3,2)\n",
    "        predict = self._model_skl(self.result[0], self.result[1], \n",
    "                                  self.result[2], self.result[3]) + self.result[4]\n",
    "        plt.imshow(predict.reshape((self.N,self.N)), \n",
    "                   origin=\"lower\", vmin=MIN, \n",
    "                   vmax=MAX, cmap=CMAP)\n",
    "        plt.colorbar()\n",
    "        \n",
    "        plt.subplot(1,3,3)\n",
    "        residuals = self.flat_data - predict\n",
    "        plt.imshow(residuals.reshape((self.N,self.N)), \n",
    "                   origin=\"lower\", vmin=-MAX/10., \n",
    "                   vmax=MAX/10., cmap=CMAP)\n",
    "        plt.colorbar()\n",
    "\n",
    "N = 30\n",
    "x = np.linspace(-5,5,N)\n",
    "x, y = np.meshgrid(x, x)\n",
    "x = x.reshape(N**2)\n",
    "y = y.reshape(N**2)\n",
    "\n",
    "z, v = VK(x, y, 0.5, 30., -0.3, 0.3)\n",
    "z -= 3\n",
    "w = np.linalg.inv(v)\n",
    "\n",
    "A = eval_kernel(\"2 * AnisotropicVonKarman(invLam=np.array([[1., 0], [0., 1.]]))\")\n",
    "\n",
    "fg = robust_2dfit(A, z, x, y, w)\n",
    "#fg.minimize(p0 = [0.2, -0., -0.])\n",
    "fg.minimize_minuit(p0 = [5., 0.2, 0.2])\n",
    "fg.plot_result()"
   ]
  },
  {
   "cell_type": "code",
   "execution_count": 44,
   "metadata": {},
   "outputs": [],
   "source": [
    "dic = cPickle.load(open('../../astrometry/17946_z/gp_output_17946.pkl'))"
   ]
  },
  {
   "cell_type": "code",
   "execution_count": 50,
   "metadata": {},
   "outputs": [
    {
     "data": {
      "text/html": [
       "<hr>"
      ]
     },
     "metadata": {},
     "output_type": "display_data"
    },
    {
     "data": {
      "text/html": [
       "<table>\n",
       "    <tr>\n",
       "        <td title=\"Minimum value of function\">FCN = 952.813817183</td>\n",
       "        <td title=\"Total number of call to FCN so far\">TOTAL NCALL = 79</td>\n",
       "        <td title=\"Number of call in last migrad\">NCALLS = 79</td>\n",
       "    </tr>\n",
       "    <tr>\n",
       "        <td title=\"Estimated distance to minimum\">EDM = 8.30550769075e-12</td>\n",
       "        <td title=\"Maximum EDM definition of convergence\">GOAL EDM = 1e-05</td>\n",
       "        <td title=\"Error def. Amount of increase in FCN to be defined as 1 standard deviation\">\n",
       "        UP = 1.0</td>\n",
       "    </tr>\n",
       "</table>\n",
       "<table>\n",
       "    <tr>\n",
       "        <td align=\"center\" title=\"Validity of the migrad call\">Valid</td>\n",
       "        <td align=\"center\" title=\"Validity of parameters\">Valid Param</td>\n",
       "        <td align=\"center\" title=\"Is Covariance matrix accurate?\">Accurate Covar</td>\n",
       "        <td align=\"center\" title=\"Positive definiteness of covariance matrix\">PosDef</td>\n",
       "        <td align=\"center\" title=\"Was covariance matrix made posdef by adding diagonal element\">Made PosDef</td>\n",
       "    </tr>\n",
       "    <tr>\n",
       "        <td align=\"center\" style=\"background-color:#FF7878\">False</td>\n",
       "        <td align=\"center\" style=\"background-color:#92CCA6\">True</td>\n",
       "        <td align=\"center\" style=\"background-color:#FF7878\">False</td>\n",
       "        <td align=\"center\" style=\"background-color:#FF7878\">False</td>\n",
       "        <td align=\"center\" style=\"background-color:#92CCA6\">False</td>\n",
       "    </tr>\n",
       "    <tr>\n",
       "        <td align=\"center\" title=\"Was last hesse call fail?\">Hesse Fail</td>\n",
       "        <td align=\"center\" title=\"Validity of covariance\">HasCov</td>\n",
       "        <td align=\"center\" title=\"Is EDM above goal EDM?\">Above EDM</td>\n",
       "        <td align=\"center\"></td>\n",
       "        <td align=\"center\" title=\"Did last migrad call reach max call limit?\">Reach calllim</td>\n",
       "    </tr>\n",
       "    <tr>\n",
       "        <td align=\"center\" style=\"background-color:#FF7878\">True</td>\n",
       "        <td align=\"center\" style=\"background-color:#92CCA6\">True</td>\n",
       "        <td align=\"center\" style=\"background-color:#92CCA6\">False</td>\n",
       "        <td align=\"center\"></td>\n",
       "        <td align=\"center\" style=\"background-color:#92CCA6\">False</td>\n",
       "    </tr>\n",
       "</table>"
      ]
     },
     "metadata": {},
     "output_type": "display_data"
    },
    {
     "data": {
      "text/html": [
       "<table>\n",
       "    <tr>\n",
       "        <td><a href=\"#\" onclick=\"$('#fbbbIKQcDW').toggle()\">+</a></td>\n",
       "        <td title=\"Variable name\">Name</td>\n",
       "        <td title=\"Value of parameter\">Value</td>\n",
       "        <td title=\"Hesse error\">Hesse Error</td>\n",
       "        <td title=\"Minos lower error\">Minos Error-</td>\n",
       "        <td title=\"Minos upper error\">Minos Error+</td>\n",
       "        <td title=\"Lower limit of the parameter\">Limit-</td>\n",
       "        <td title=\"Upper limit of the parameter\">Limit+</td>\n",
       "        <td title=\"Is the parameter fixed in the fit\">Fixed?</td>\n",
       "    </tr>\n",
       "    <tr>\n",
       "        <td>0</td>\n",
       "        <td>x0</td>\n",
       "        <td>6117.3</td>\n",
       "        <td>0</td>\n",
       "        <td></td>\n",
       "        <td></td>\n",
       "        <td></td>\n",
       "        <td></td>\n",
       "        <td>No</td>\n",
       "    </tr>\n",
       "    <tr>\n",
       "        <td>1</td>\n",
       "        <td>x1</td>\n",
       "        <td>1.0892</td>\n",
       "        <td>0</td>\n",
       "        <td></td>\n",
       "        <td></td>\n",
       "        <td></td>\n",
       "        <td></td>\n",
       "        <td>No</td>\n",
       "    </tr>\n",
       "    <tr>\n",
       "        <td>2</td>\n",
       "        <td>x2</td>\n",
       "        <td>-4.79543</td>\n",
       "        <td>0</td>\n",
       "        <td></td>\n",
       "        <td></td>\n",
       "        <td></td>\n",
       "        <td></td>\n",
       "        <td>No</td>\n",
       "    </tr>\n",
       "</table>\n",
       "<pre id=\"fbbbIKQcDW\" style=\"display:none;\">\n",
       "<textarea rows=\"12\" cols=\"50\" onclick=\"this.select()\" readonly>\n",
       "\\begin{tabular}{|c|r|r|r|r|r|r|r|c|}\n",
       "\\hline\n",
       " & Name & Value & Hesse Error & Minos Error- & Minos Error+ & Limit- & Limit+ & Fixed?\\\\\n",
       "\\hline\n",
       "0 & x0 & 6117.3 & 0 &  &  &  &  & No\\\\\n",
       "\\hline\n",
       "1 & x1 & 1.0892 & 0 &  &  &  &  & No\\\\\n",
       "\\hline\n",
       "2 & x2 & -4.79543 & 0 &  &  &  &  & No\\\\\n",
       "\\hline\n",
       "\\end{tabular}\n",
       "</textarea>\n",
       "</pre>"
      ]
     },
     "metadata": {},
     "output_type": "display_data"
    },
    {
     "data": {
      "text/html": [
       "<hr>"
      ]
     },
     "metadata": {},
     "output_type": "display_data"
    },
    {
     "name": "stdout",
     "output_type": "stream",
     "text": [
      "restart fit because failure\n",
      "[450.0, -0.3, -0.3]\n"
     ]
    },
    {
     "data": {
      "text/html": [
       "<hr>"
      ]
     },
     "metadata": {},
     "output_type": "display_data"
    },
    {
     "data": {
      "text/html": [
       "<table>\n",
       "    <tr>\n",
       "        <td title=\"Minimum value of function\">FCN = 629.135174149</td>\n",
       "        <td title=\"Total number of call to FCN so far\">TOTAL NCALL = 133</td>\n",
       "        <td title=\"Number of call in last migrad\">NCALLS = 133</td>\n",
       "    </tr>\n",
       "    <tr>\n",
       "        <td title=\"Estimated distance to minimum\">EDM = 1.40036161768e-05</td>\n",
       "        <td title=\"Maximum EDM definition of convergence\">GOAL EDM = 1e-05</td>\n",
       "        <td title=\"Error def. Amount of increase in FCN to be defined as 1 standard deviation\">\n",
       "        UP = 1.0</td>\n",
       "    </tr>\n",
       "</table>\n",
       "<table>\n",
       "    <tr>\n",
       "        <td align=\"center\" title=\"Validity of the migrad call\">Valid</td>\n",
       "        <td align=\"center\" title=\"Validity of parameters\">Valid Param</td>\n",
       "        <td align=\"center\" title=\"Is Covariance matrix accurate?\">Accurate Covar</td>\n",
       "        <td align=\"center\" title=\"Positive definiteness of covariance matrix\">PosDef</td>\n",
       "        <td align=\"center\" title=\"Was covariance matrix made posdef by adding diagonal element\">Made PosDef</td>\n",
       "    </tr>\n",
       "    <tr>\n",
       "        <td align=\"center\" style=\"background-color:#92CCA6\">True</td>\n",
       "        <td align=\"center\" style=\"background-color:#92CCA6\">True</td>\n",
       "        <td align=\"center\" style=\"background-color:#92CCA6\">True</td>\n",
       "        <td align=\"center\" style=\"background-color:#92CCA6\">True</td>\n",
       "        <td align=\"center\" style=\"background-color:#92CCA6\">False</td>\n",
       "    </tr>\n",
       "    <tr>\n",
       "        <td align=\"center\" title=\"Was last hesse call fail?\">Hesse Fail</td>\n",
       "        <td align=\"center\" title=\"Validity of covariance\">HasCov</td>\n",
       "        <td align=\"center\" title=\"Is EDM above goal EDM?\">Above EDM</td>\n",
       "        <td align=\"center\"></td>\n",
       "        <td align=\"center\" title=\"Did last migrad call reach max call limit?\">Reach calllim</td>\n",
       "    </tr>\n",
       "    <tr>\n",
       "        <td align=\"center\" style=\"background-color:#92CCA6\">False</td>\n",
       "        <td align=\"center\" style=\"background-color:#92CCA6\">True</td>\n",
       "        <td align=\"center\" style=\"background-color:#92CCA6\">False</td>\n",
       "        <td align=\"center\"></td>\n",
       "        <td align=\"center\" style=\"background-color:#92CCA6\">False</td>\n",
       "    </tr>\n",
       "</table>"
      ]
     },
     "metadata": {},
     "output_type": "display_data"
    },
    {
     "data": {
      "text/html": [
       "<table>\n",
       "    <tr>\n",
       "        <td><a href=\"#\" onclick=\"$('#uCvMNqinRs').toggle()\">+</a></td>\n",
       "        <td title=\"Variable name\">Name</td>\n",
       "        <td title=\"Value of parameter\">Value</td>\n",
       "        <td title=\"Hesse error\">Hesse Error</td>\n",
       "        <td title=\"Minos lower error\">Minos Error-</td>\n",
       "        <td title=\"Minos upper error\">Minos Error+</td>\n",
       "        <td title=\"Lower limit of the parameter\">Limit-</td>\n",
       "        <td title=\"Upper limit of the parameter\">Limit+</td>\n",
       "        <td title=\"Is the parameter fixed in the fit\">Fixed?</td>\n",
       "    </tr>\n",
       "    <tr>\n",
       "        <td>0</td>\n",
       "        <td>x0</td>\n",
       "        <td>4157.47</td>\n",
       "        <td>140.643</td>\n",
       "        <td></td>\n",
       "        <td></td>\n",
       "        <td></td>\n",
       "        <td></td>\n",
       "        <td>No</td>\n",
       "    </tr>\n",
       "    <tr>\n",
       "        <td>1</td>\n",
       "        <td>x1</td>\n",
       "        <td>0.409187</td>\n",
       "        <td>0.0162982</td>\n",
       "        <td></td>\n",
       "        <td></td>\n",
       "        <td></td>\n",
       "        <td></td>\n",
       "        <td>No</td>\n",
       "    </tr>\n",
       "    <tr>\n",
       "        <td>2</td>\n",
       "        <td>x2</td>\n",
       "        <td>0.0117062</td>\n",
       "        <td>0.0159674</td>\n",
       "        <td></td>\n",
       "        <td></td>\n",
       "        <td></td>\n",
       "        <td></td>\n",
       "        <td>No</td>\n",
       "    </tr>\n",
       "</table>\n",
       "<pre id=\"uCvMNqinRs\" style=\"display:none;\">\n",
       "<textarea rows=\"12\" cols=\"50\" onclick=\"this.select()\" readonly>\n",
       "\\begin{tabular}{|c|r|r|r|r|r|r|r|c|}\n",
       "\\hline\n",
       " & Name & Value & Hesse Error & Minos Error- & Minos Error+ & Limit- & Limit+ & Fixed?\\\\\n",
       "\\hline\n",
       "0 & x0 & 4157.47 & 140.643 &  &  &  &  & No\\\\\n",
       "\\hline\n",
       "1 & x1 & 0.409187 & 0.0162982 &  &  &  &  & No\\\\\n",
       "\\hline\n",
       "2 & x2 & 0.0117062 & 0.0159674 &  &  &  &  & No\\\\\n",
       "\\hline\n",
       "\\end{tabular}\n",
       "</textarea>\n",
       "</pre>"
      ]
     },
     "metadata": {},
     "output_type": "display_data"
    },
    {
     "data": {
      "text/html": [
       "<hr>"
      ]
     },
     "metadata": {},
     "output_type": "display_data"
    },
    {
     "name": "stdout",
     "output_type": "stream",
     "text": [
      "[2.102661432556991, 4157.467200263696, 0.4091865947125863, 0.011706216288031309, -0.7075278594127458]\n"
     ]
    },
    {
     "data": {
      "image/png": "[encoded data removed]",
      "text/plain": [
       "<Figure size 1152x576 with 6 Axes>"
      ]
     },
     "metadata": {
      "needs_background": "light"
     },
     "output_type": "display_data"
    }
   ],
   "source": [
    "z = dic['gp_output']['gpv.2pcf']\n",
    "x = dic['gp_output']['gpv.2pcf_dist'][:,0]\n",
    "y = dic['gp_output']['gpv.2pcf_dist'][:,1]\n",
    "w = dic['gp_output']['gpv.2pcf_weight']\n",
    "mask = dic['gp_output']['gpu.2pcf_mask']\n",
    "\n",
    "A = eval_kernel(\"2 * AnisotropicVonKarman(invLam=np.array([[1., 0], [0., 1.]]))\")\n",
    "#fg = fit_gauss(x, y, z, w, mask=mask)\n",
    "fg = robust_2dfit(A, z, x, y, w, mask=mask)\n",
    "fg.minimize_minuit(p0 = [500., 0.2, 0.2])\n",
    "fg.plot_result()\n",
    "#fg.m.migrad_ok()"
   ]
  },
  {
   "cell_type": "code",
   "execution_count": 32,
   "metadata": {},
   "outputs": [
    {
     "data": {
      "text/plain": [
       "array([[-23525.66812411,    151.38834491],\n",
       "       [   151.38834491, -23343.8293698 ]])"
      ]
     },
     "execution_count": 32,
     "metadata": {},
     "output_type": "execute_result"
    }
   ],
   "source": [
    "np.dot(fg.flat_data*fg.coord.T, fg.coord) #/ np.sum(fg.flat_data**2)"
   ]
  },
  {
   "cell_type": "code",
   "execution_count": 37,
   "metadata": {},
   "outputs": [
    {
     "data": {
      "text/plain": [
       "array([[8.09389194, 2.18753836],\n",
       "       [2.18753836, 3.71881522]])"
      ]
     },
     "execution_count": 37,
     "metadata": {},
     "output_type": "execute_result"
    }
   ],
   "source": [
    "get_correlation_length_matrix(3., 0.2, 0.2)"
   ]
  },
  {
   "cell_type": "code",
   "execution_count": 33,
   "metadata": {},
   "outputs": [],
   "source": [
    "def moment(coord, data):\n",
    "    sum_data = np.sum(data)\n",
    "    Mxx = np.sum(data * coord[:,0]**2) / sum_data\n",
    "    Myy = np.sum(data * coord[:,0]**2) / sum_data\n",
    "    Mxy = np.sum(data * coord[:,0] * coord[:,1]) / sum_data\n",
    "    \n",
    "    return np.array([[Mxx, Mxy], [Mxy, Myy]])"
   ]
  },
  {
   "cell_type": "code",
   "execution_count": 38,
   "metadata": {},
   "outputs": [
    {
     "data": {
      "text/plain": [
       "array([[ 9.01925301, -0.03214927],\n",
       "       [-0.03214927,  9.01925301]])"
      ]
     },
     "execution_count": 38,
     "metadata": {},
     "output_type": "execute_result"
    }
   ],
   "source": [
    "moment(fg.coord, fg.flat_data)"
   ]
  },
  {
   "cell_type": "code",
   "execution_count": null,
   "metadata": {},
   "outputs": [],
   "source": []
  }
 ],
 "metadata": {
  "kernelspec": {
   "display_name": "Python 2",
   "language": "python",
   "name": "python2"
  },
  "language_info": {
   "codemirror_mode": {
    "name": "ipython",
    "version": 2
   },
   "file_extension": ".py",
   "mimetype": "text/x-python",
   "name": "python",
   "nbconvert_exporter": "python",
   "pygments_lexer": "ipython2",
   "version": "2.7.15"
  }
 },
 "nbformat": 4,
 "nbformat_minor": 2
}
