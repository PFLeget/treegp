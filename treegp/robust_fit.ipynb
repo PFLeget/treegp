{
 "cells": [
  {
   "cell_type": "code",
   "execution_count": 51,
   "metadata": {},
   "outputs": [],
   "source": [
    "import pylab as plt\n",
    "import numpy as np\n",
    "from scipy import optimize, special\n",
    "import cPickle\n",
    "from iminuit import Minuit\n",
    "%matplotlib inline"
   ]
  },
  {
   "cell_type": "code",
   "execution_count": 52,
   "metadata": {},
   "outputs": [],
   "source": [
    "def get_correlation_length_matrix(size, e1, e2):\n",
    "    if abs(e1)>1:\n",
    "        e1 = 0\n",
    "    if abs(e2)>1:\n",
    "        e2 = 0\n",
    "    e = np.sqrt(e1**2 + e2**2)\n",
    "    q = (1-e) / (1+e)\n",
    "    phi = 0.5 * np.arctan2(e2,e1)\n",
    "    rot = np.array([[np.cos(phi), np.sin(phi)],\n",
    "                    [-np.sin(phi), np.cos(phi)]])\n",
    "    ell = np.array([[size**2, 0],\n",
    "                    [0, (size * q)**2]])\n",
    "    L = np.dot(rot.T, ell.dot(rot))\n",
    "    return L\n",
    "\n",
    "def gauss(x, y, sigma,\n",
    "          corr_length, g1, g2, add_noise=True):\n",
    "    L = get_correlation_length_matrix(corr_length, g1, g2)\n",
    "    l = np.linalg.inv(L)\n",
    "    dist_a = (l[0,0]*x*x) + (2*l[0,1]*x*y) + (l[1,1]*y*y)\n",
    "    z = np.exp(-0.5 * dist_a)\n",
    "    if add_noise:\n",
    "        np.random.seed(42)\n",
    "        noise = np.random.normal(scale=sigma*0.05, size=np.shape(z))\n",
    "        z += noise\n",
    "        return z*sigma**2, np.eye(len(z)) * (sigma*0.05)**2\n",
    "    else:\n",
    "        return z*sigma**2\n",
    "\n",
    "def VK(x, y, sigma,\n",
    "       corr_length, g1, g2, add_noise=True):\n",
    "    L = get_correlation_length_matrix(corr_length, g1, g2)\n",
    "    l = np.linalg.inv(L)\n",
    "    dist_a = (l[0,0]*x*x) + (2*l[0,1]*x*y) + (l[1,1]*y*y)\n",
    "    z = np.zeros_like(dist_a)\n",
    "    Filter = dist_a != 0.\n",
    "    z[Filter] = dist_a[Filter]**(5./12.) *  special.kv(5./6., 2*np.pi * np.sqrt(dist_a[Filter]))\n",
    "    lim0 = special.gamma(5./6.) /(2 * ((np.pi)**(5./6.)) )\n",
    "    if np.sum(Filter) != len(z):\n",
    "        z[~Filter] = lim0\n",
    "    z /= lim0\n",
    "    if add_noise:\n",
    "        np.random.seed(42)\n",
    "        noise = np.random.normal(scale=sigma*0.05, size=np.shape(z))\n",
    "        z += noise\n",
    "        return z*sigma**2, np.eye(len(z)) * (sigma*0.05)**2\n",
    "    else:\n",
    "        return z*sigma**2"
   ]
  },
  {
   "cell_type": "code",
   "execution_count": 55,
   "metadata": {},
   "outputs": [
    {
     "data": {
      "text/plain": [
       "<matplotlib.image.AxesImage at 0x123b73990>"
      ]
     },
     "execution_count": 55,
     "metadata": {},
     "output_type": "execute_result"
    },
    {
     "data": {
      "image/png": "[encoded data removed]",
      "text/plain": [
       "<Figure size 432x288 with 1 Axes>"
      ]
     },
     "metadata": {
      "needs_background": "light"
     },
     "output_type": "display_data"
    }
   ],
   "source": [
    "N = 30\n",
    "x = np.linspace(-5,5,N)\n",
    "x, y = np.meshgrid(x, x)\n",
    "x = x.reshape(N**2)\n",
    "y = y.reshape(N**2)\n",
    "\n",
    "z, v = VK(x, y, 1., 10., 0.2, 0.2)\n",
    "z = z.reshape((N,N))\n",
    "\n",
    "plt.imshow(z, origin='lower')"
   ]
  },
  {
   "cell_type": "code",
   "execution_count": 58,
   "metadata": {},
   "outputs": [
    {
     "name": "stderr",
     "output_type": "stream",
     "text": [
      "/Users/leget/miniconda2/lib/python2.7/site-packages/ipykernel_launcher.py:31: InitialParamWarning: Parameter x0 is floating but does not have initial step size. Assume 1.\n",
      "/Users/leget/miniconda2/lib/python2.7/site-packages/ipykernel_launcher.py:31: InitialParamWarning: Parameter x1 is floating but does not have initial step size. Assume 1.\n",
      "/Users/leget/miniconda2/lib/python2.7/site-packages/ipykernel_launcher.py:31: InitialParamWarning: Parameter x2 is floating but does not have initial step size. Assume 1.\n",
      "/Users/leget/miniconda2/lib/python2.7/site-packages/ipykernel_launcher.py:31: InitialParamWarning: errordef is not given. Default to 1.\n"
     ]
    },
    {
     "data": {
      "text/html": [
       "<hr>"
      ]
     },
     "metadata": {},
     "output_type": "display_data"
    },
    {
     "data": {
      "text/html": [
       "<table>\n",
       "    <tr>\n",
       "        <td title=\"Minimum value of function\">FCN = 53.7323208358</td>\n",
       "        <td title=\"Total number of call to FCN so far\">TOTAL NCALL = 94</td>\n",
       "        <td title=\"Number of call in last migrad\">NCALLS = 94</td>\n",
       "    </tr>\n",
       "    <tr>\n",
       "        <td title=\"Estimated distance to minimum\">EDM = 1.38585613514e-05</td>\n",
       "        <td title=\"Maximum EDM definition of convergence\">GOAL EDM = 1e-05</td>\n",
       "        <td title=\"Error def. Amount of increase in FCN to be defined as 1 standard deviation\">\n",
       "        UP = 1.0</td>\n",
       "    </tr>\n",
       "</table>\n",
       "<table>\n",
       "    <tr>\n",
       "        <td align=\"center\" title=\"Validity of the migrad call\">Valid</td>\n",
       "        <td align=\"center\" title=\"Validity of parameters\">Valid Param</td>\n",
       "        <td align=\"center\" title=\"Is Covariance matrix accurate?\">Accurate Covar</td>\n",
       "        <td align=\"center\" title=\"Positive definiteness of covariance matrix\">PosDef</td>\n",
       "        <td align=\"center\" title=\"Was covariance matrix made posdef by adding diagonal element\">Made PosDef</td>\n",
       "    </tr>\n",
       "    <tr>\n",
       "        <td align=\"center\" style=\"background-color:#92CCA6\">True</td>\n",
       "        <td align=\"center\" style=\"background-color:#92CCA6\">True</td>\n",
       "        <td align=\"center\" style=\"background-color:#92CCA6\">True</td>\n",
       "        <td align=\"center\" style=\"background-color:#92CCA6\">True</td>\n",
       "        <td align=\"center\" style=\"background-color:#92CCA6\">False</td>\n",
       "    </tr>\n",
       "    <tr>\n",
       "        <td align=\"center\" title=\"Was last hesse call fail?\">Hesse Fail</td>\n",
       "        <td align=\"center\" title=\"Validity of covariance\">HasCov</td>\n",
       "        <td align=\"center\" title=\"Is EDM above goal EDM?\">Above EDM</td>\n",
       "        <td align=\"center\"></td>\n",
       "        <td align=\"center\" title=\"Did last migrad call reach max call limit?\">Reach calllim</td>\n",
       "    </tr>\n",
       "    <tr>\n",
       "        <td align=\"center\" style=\"background-color:#92CCA6\">False</td>\n",
       "        <td align=\"center\" style=\"background-color:#92CCA6\">True</td>\n",
       "        <td align=\"center\" style=\"background-color:#92CCA6\">False</td>\n",
       "        <td align=\"center\"></td>\n",
       "        <td align=\"center\" style=\"background-color:#92CCA6\">False</td>\n",
       "    </tr>\n",
       "</table>"
      ]
     },
     "metadata": {},
     "output_type": "display_data"
    },
    {
     "data": {
      "text/html": [
       "<table>\n",
       "    <tr>\n",
       "        <td><a href=\"#\" onclick=\"$('#LBwHpBMfVQ').toggle()\">+</a></td>\n",
       "        <td title=\"Variable name\">Name</td>\n",
       "        <td title=\"Value of parameter\">Value</td>\n",
       "        <td title=\"Hesse error\">Hesse Error</td>\n",
       "        <td title=\"Minos lower error\">Minos Error-</td>\n",
       "        <td title=\"Minos upper error\">Minos Error+</td>\n",
       "        <td title=\"Lower limit of the parameter\">Limit-</td>\n",
       "        <td title=\"Upper limit of the parameter\">Limit+</td>\n",
       "        <td title=\"Is the parameter fixed in the fit\">Fixed?</td>\n",
       "    </tr>\n",
       "    <tr>\n",
       "        <td>0</td>\n",
       "        <td>x0</td>\n",
       "        <td>29.7597</td>\n",
       "        <td>1.35297</td>\n",
       "        <td></td>\n",
       "        <td></td>\n",
       "        <td></td>\n",
       "        <td></td>\n",
       "        <td>No</td>\n",
       "    </tr>\n",
       "    <tr>\n",
       "        <td>1</td>\n",
       "        <td>x1</td>\n",
       "        <td>-0.303448</td>\n",
       "        <td>0.0128668</td>\n",
       "        <td></td>\n",
       "        <td></td>\n",
       "        <td></td>\n",
       "        <td></td>\n",
       "        <td>No</td>\n",
       "    </tr>\n",
       "    <tr>\n",
       "        <td>2</td>\n",
       "        <td>x2</td>\n",
       "        <td>0.304975</td>\n",
       "        <td>0.0113971</td>\n",
       "        <td></td>\n",
       "        <td></td>\n",
       "        <td></td>\n",
       "        <td></td>\n",
       "        <td>No</td>\n",
       "    </tr>\n",
       "</table>\n",
       "<pre id=\"LBwHpBMfVQ\" style=\"display:none;\">\n",
       "<textarea rows=\"12\" cols=\"50\" onclick=\"this.select()\" readonly>\n",
       "\\begin{tabular}{|c|r|r|r|r|r|r|r|c|}\n",
       "\\hline\n",
       " & Name & Value & Hesse Error & Minos Error- & Minos Error+ & Limit- & Limit+ & Fixed?\\\\\n",
       "\\hline\n",
       "0 & x0 & 29.7597 & 1.35297 &  &  &  &  & No\\\\\n",
       "\\hline\n",
       "1 & x1 & -0.303448 & 0.0128668 &  &  &  &  & No\\\\\n",
       "\\hline\n",
       "2 & x2 & 0.304975 & 0.0113971 &  &  &  &  & No\\\\\n",
       "\\hline\n",
       "\\end{tabular}\n",
       "</textarea>\n",
       "</pre>"
      ]
     },
     "metadata": {},
     "output_type": "display_data"
    },
    {
     "data": {
      "text/html": [
       "<hr>"
      ]
     },
     "metadata": {},
     "output_type": "display_data"
    },
    {
     "name": "stdout",
     "output_type": "stream",
     "text": [
      "[0.49836738462532965, 29.759729937895116, -0.30344840967459025, 0.3049752634174728, -2.997487384458937]\n"
     ]
    },
    {
     "data": {
      "image/png": "[encoded data removed]",
      "text/plain": [
       "<Figure size 1152x576 with 6 Axes>"
      ]
     },
     "metadata": {
      "needs_background": "light"
     },
     "output_type": "display_data"
    }
   ],
   "source": [
    "class fit_gauss(object):\n",
    "    \n",
    "    def __init__(self, x, y, flat_data, W, mask=None):\n",
    "        \n",
    "        if mask is None:\n",
    "            self.mask = np.array([True]*len(x))\n",
    "        else:\n",
    "            self.mask = mask\n",
    "        \n",
    "        self.flat_data = flat_data\n",
    "        self.x = x\n",
    "        self.y = y\n",
    "        self.W = W\n",
    "        self.N = int(np.sqrt(len(self.x)))\n",
    "        \n",
    "    def chi2(self, param):\n",
    "        model = VK(self.x, self.y,\n",
    "                   1., param[0], \n",
    "                   param[1], param[2], add_noise=False)\n",
    "        model = model[self.mask]\n",
    "        F = np.array([model, np.ones_like(model)]).T\n",
    "        FWF = np.dot(F.T, self.W).dot(F)\n",
    "        Y = self.flat_data[self.mask].reshape((len(model), 1))\n",
    "        self.alpha = np.linalg.inv(FWF).dot(np.dot(F.T, self.W).dot(Y))\n",
    "        self.residuals = self.flat_data[self.mask] - ((self.alpha[0] * model) + self.alpha[1])\n",
    "        self.chi2 = self.residuals.dot(self.W).dot(self.residuals.reshape((len(model), 1)))\n",
    "        return self.chi2\n",
    "\n",
    "    def minimize_minuit(self, p0 = [3., 0.2, 0.2]):\n",
    "        \n",
    "        self.m = Minuit.from_array_func(self.chi2, p0)\n",
    "        self.m.migrad()\n",
    "        results = [self.m.values[key] for key in self.m.values.keys()]\n",
    "        self.result = [np.sqrt(self.alpha[0][0]), results[0],\n",
    "                       results[1], results[2],\n",
    "                       self.alpha[1][0]]\n",
    "        \n",
    "    def plot_result(self):\n",
    "        CMAP = plt.cm.seismic\n",
    "        MAX = np.max(self.flat_data)\n",
    "        MIN = np.min(self.flat_data)\n",
    "        print self.result\n",
    "        plt.figure(figsize=(16,8))\n",
    "        plt.subplot(1,3,1)\n",
    "        plt.imshow(self.flat_data.reshape((self.N,self.N)), \n",
    "                   origin=\"lower\", vmin=MIN, \n",
    "                   vmax=MAX, cmap=CMAP)\n",
    "        plt.colorbar()\n",
    "        \n",
    "        plt.subplot(1,3,2)\n",
    "        predict = VK(self.x, self.y, \n",
    "                     self.result[0], self.result[1], \n",
    "                     self.result[2], self.result[3], add_noise=False) + self.result[4]\n",
    "        plt.imshow(predict.reshape((self.N,self.N)), \n",
    "                   origin=\"lower\", vmin=MIN, \n",
    "                   vmax=MAX, cmap=CMAP)\n",
    "        plt.colorbar()\n",
    "        \n",
    "        plt.subplot(1,3,3)\n",
    "        residuals = self.flat_data - predict\n",
    "        plt.imshow(residuals.reshape((self.N,self.N)), \n",
    "                   origin=\"lower\", vmin=-MAX/10., \n",
    "                   vmax=MAX/10., cmap=CMAP)\n",
    "        plt.colorbar()\n",
    "\n",
    "N = 30\n",
    "x = np.linspace(-5,5,N)\n",
    "x, y = np.meshgrid(x, x)\n",
    "x = x.reshape(N**2)\n",
    "y = y.reshape(N**2)\n",
    "\n",
    "z, v = VK(x, y, 0.5, 30., -0.3, 0.3)\n",
    "z -= 3\n",
    "w = np.linalg.inv(v)\n",
    "\n",
    "fg = fit_gauss(x, y, z, w)\n",
    "#fg.minimize(p0 = [0.2, -0., -0.])\n",
    "fg.minimize_minuit(p0 = [15., 0.2, 0.2])\n",
    "fg.plot_result()"
   ]
  },
  {
   "cell_type": "code",
   "execution_count": 41,
   "metadata": {},
   "outputs": [],
   "source": [
    "dic = cPickle.load(open('../../astrometry/17946_z/gp_output_17946.pkl'))"
   ]
  },
  {
   "cell_type": "code",
   "execution_count": 60,
   "metadata": {},
   "outputs": [
    {
     "name": "stderr",
     "output_type": "stream",
     "text": [
      "/Users/leget/miniconda2/lib/python2.7/site-packages/ipykernel_launcher.py:31: InitialParamWarning: Parameter x0 is floating but does not have initial step size. Assume 1.\n",
      "/Users/leget/miniconda2/lib/python2.7/site-packages/ipykernel_launcher.py:31: InitialParamWarning: Parameter x1 is floating but does not have initial step size. Assume 1.\n",
      "/Users/leget/miniconda2/lib/python2.7/site-packages/ipykernel_launcher.py:31: InitialParamWarning: Parameter x2 is floating but does not have initial step size. Assume 1.\n",
      "/Users/leget/miniconda2/lib/python2.7/site-packages/ipykernel_launcher.py:31: InitialParamWarning: errordef is not given. Default to 1.\n"
     ]
    },
    {
     "data": {
      "text/html": [
       "<hr>"
      ]
     },
     "metadata": {},
     "output_type": "display_data"
    },
    {
     "data": {
      "text/html": [
       "<table>\n",
       "    <tr>\n",
       "        <td title=\"Minimum value of function\">FCN = 629.135160296</td>\n",
       "        <td title=\"Total number of call to FCN so far\">TOTAL NCALL = 166</td>\n",
       "        <td title=\"Number of call in last migrad\">NCALLS = 166</td>\n",
       "    </tr>\n",
       "    <tr>\n",
       "        <td title=\"Estimated distance to minimum\">EDM = 1.49373866804e-07</td>\n",
       "        <td title=\"Maximum EDM definition of convergence\">GOAL EDM = 1e-05</td>\n",
       "        <td title=\"Error def. Amount of increase in FCN to be defined as 1 standard deviation\">\n",
       "        UP = 1.0</td>\n",
       "    </tr>\n",
       "</table>\n",
       "<table>\n",
       "    <tr>\n",
       "        <td align=\"center\" title=\"Validity of the migrad call\">Valid</td>\n",
       "        <td align=\"center\" title=\"Validity of parameters\">Valid Param</td>\n",
       "        <td align=\"center\" title=\"Is Covariance matrix accurate?\">Accurate Covar</td>\n",
       "        <td align=\"center\" title=\"Positive definiteness of covariance matrix\">PosDef</td>\n",
       "        <td align=\"center\" title=\"Was covariance matrix made posdef by adding diagonal element\">Made PosDef</td>\n",
       "    </tr>\n",
       "    <tr>\n",
       "        <td align=\"center\" style=\"background-color:#92CCA6\">True</td>\n",
       "        <td align=\"center\" style=\"background-color:#92CCA6\">True</td>\n",
       "        <td align=\"center\" style=\"background-color:#92CCA6\">True</td>\n",
       "        <td align=\"center\" style=\"background-color:#92CCA6\">True</td>\n",
       "        <td align=\"center\" style=\"background-color:#92CCA6\">False</td>\n",
       "    </tr>\n",
       "    <tr>\n",
       "        <td align=\"center\" title=\"Was last hesse call fail?\">Hesse Fail</td>\n",
       "        <td align=\"center\" title=\"Validity of covariance\">HasCov</td>\n",
       "        <td align=\"center\" title=\"Is EDM above goal EDM?\">Above EDM</td>\n",
       "        <td align=\"center\"></td>\n",
       "        <td align=\"center\" title=\"Did last migrad call reach max call limit?\">Reach calllim</td>\n",
       "    </tr>\n",
       "    <tr>\n",
       "        <td align=\"center\" style=\"background-color:#92CCA6\">False</td>\n",
       "        <td align=\"center\" style=\"background-color:#92CCA6\">True</td>\n",
       "        <td align=\"center\" style=\"background-color:#92CCA6\">False</td>\n",
       "        <td align=\"center\"></td>\n",
       "        <td align=\"center\" style=\"background-color:#92CCA6\">False</td>\n",
       "    </tr>\n",
       "</table>"
      ]
     },
     "metadata": {},
     "output_type": "display_data"
    },
    {
     "data": {
      "text/html": [
       "<table>\n",
       "    <tr>\n",
       "        <td><a href=\"#\" onclick=\"$('#IftrOHRuNV').toggle()\">+</a></td>\n",
       "        <td title=\"Variable name\">Name</td>\n",
       "        <td title=\"Value of parameter\">Value</td>\n",
       "        <td title=\"Hesse error\">Hesse Error</td>\n",
       "        <td title=\"Minos lower error\">Minos Error-</td>\n",
       "        <td title=\"Minos upper error\">Minos Error+</td>\n",
       "        <td title=\"Lower limit of the parameter\">Limit-</td>\n",
       "        <td title=\"Upper limit of the parameter\">Limit+</td>\n",
       "        <td title=\"Is the parameter fixed in the fit\">Fixed?</td>\n",
       "    </tr>\n",
       "    <tr>\n",
       "        <td>0</td>\n",
       "        <td>x0</td>\n",
       "        <td>4157.59</td>\n",
       "        <td>140.654</td>\n",
       "        <td></td>\n",
       "        <td></td>\n",
       "        <td></td>\n",
       "        <td></td>\n",
       "        <td>No</td>\n",
       "    </tr>\n",
       "    <tr>\n",
       "        <td>1</td>\n",
       "        <td>x1</td>\n",
       "        <td>0.409249</td>\n",
       "        <td>0.0162967</td>\n",
       "        <td></td>\n",
       "        <td></td>\n",
       "        <td></td>\n",
       "        <td></td>\n",
       "        <td>No</td>\n",
       "    </tr>\n",
       "    <tr>\n",
       "        <td>2</td>\n",
       "        <td>x2</td>\n",
       "        <td>0.0117114</td>\n",
       "        <td>0.0159668</td>\n",
       "        <td></td>\n",
       "        <td></td>\n",
       "        <td></td>\n",
       "        <td></td>\n",
       "        <td>No</td>\n",
       "    </tr>\n",
       "</table>\n",
       "<pre id=\"IftrOHRuNV\" style=\"display:none;\">\n",
       "<textarea rows=\"12\" cols=\"50\" onclick=\"this.select()\" readonly>\n",
       "\\begin{tabular}{|c|r|r|r|r|r|r|r|c|}\n",
       "\\hline\n",
       " & Name & Value & Hesse Error & Minos Error- & Minos Error+ & Limit- & Limit+ & Fixed?\\\\\n",
       "\\hline\n",
       "0 & x0 & 4157.59 & 140.654 &  &  &  &  & No\\\\\n",
       "\\hline\n",
       "1 & x1 & 0.409249 & 0.0162967 &  &  &  &  & No\\\\\n",
       "\\hline\n",
       "2 & x2 & 0.0117114 & 0.0159668 &  &  &  &  & No\\\\\n",
       "\\hline\n",
       "\\end{tabular}\n",
       "</textarea>\n",
       "</pre>"
      ]
     },
     "metadata": {},
     "output_type": "display_data"
    },
    {
     "data": {
      "text/html": [
       "<hr>"
      ]
     },
     "metadata": {},
     "output_type": "display_data"
    },
    {
     "name": "stdout",
     "output_type": "stream",
     "text": [
      "[2.1026326653037635, 4157.589149000778, 0.40924889022483674, 0.011711366675051219, -0.7074421645060882]\n"
     ]
    },
    {
     "data": {
      "image/png": "[encoded data removed]",
      "text/plain": [
       "<Figure size 1152x576 with 6 Axes>"
      ]
     },
     "metadata": {
      "needs_background": "light"
     },
     "output_type": "display_data"
    }
   ],
   "source": [
    "z = dic['gp_output']['gpv.2pcf']\n",
    "x = dic['gp_output']['gpv.2pcf_dist'][:,0]\n",
    "y = dic['gp_output']['gpv.2pcf_dist'][:,1]\n",
    "w = dic['gp_output']['gpv.2pcf_weight']\n",
    "mask = dic['gp_output']['gpu.2pcf_mask']\n",
    "\n",
    "\n",
    "fg = fit_gauss(x, y, z, w, mask=mask)\n",
    "fg.minimize_minuit(p0 = [4000., 0., 0.])\n",
    "fg.plot_result()\n",
    "#fg.m.migrad_ok()"
   ]
  },
  {
   "cell_type": "code",
   "execution_count": 61,
   "metadata": {},
   "outputs": [],
   "source": [
    "from treegp import eval_kernel"
   ]
  },
  {
   "cell_type": "code",
   "execution_count": 102,
   "metadata": {},
   "outputs": [],
   "source": [
    "A = eval_kernel(\"AnisotropicVonKarman(invLam=np.array([[1., 0], [0., 1.]]))\")"
   ]
  },
  {
   "cell_type": "code",
   "execution_count": 103,
   "metadata": {},
   "outputs": [],
   "source": [
    "import treegp\n",
    "import sklearn\n",
    "\n",
    "A.__class__ in [treegp.kernels.AnisotropicVonKarman, \n",
    "                treegp.kernels.AnisotropicRBF,\n",
    "                sklearn.gaussian_process.kernels.Product]\n",
    "\n",
    "kernel = A.__class__"
   ]
  },
  {
   "cell_type": "code",
   "execution_count": 104,
   "metadata": {},
   "outputs": [
    {
     "data": {
      "text/plain": [
       "treegp.kernels.AnisotropicVonKarman"
      ]
     },
     "execution_count": 104,
     "metadata": {},
     "output_type": "execute_result"
    }
   ],
   "source": [
    "k = kernel"
   ]
  },
  {
   "cell_type": "code",
   "execution_count": null,
   "metadata": {},
   "outputs": [],
   "source": []
  },
  {
   "cell_type": "code",
   "execution_count": null,
   "metadata": {},
   "outputs": [],
   "source": []
  }
 ],
 "metadata": {
  "kernelspec": {
   "display_name": "Python 2",
   "language": "python",
   "name": "python2"
  },
  "language_info": {
   "codemirror_mode": {
    "name": "ipython",
    "version": 2
   },
   "file_extension": ".py",
   "mimetype": "text/x-python",
   "name": "python",
   "nbconvert_exporter": "python",
   "pygments_lexer": "ipython2",
   "version": "2.7.15"
  }
 },
 "nbformat": 4,
 "nbformat_minor": 2
}
